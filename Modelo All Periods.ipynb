{
 "cells": [
  {
   "cell_type": "code",
   "execution_count": 1,
   "metadata": {},
   "outputs": [],
   "source": [
    "import pandas as pd\n",
    "import numpy as np\n",
    "import matplotlib.pyplot as plt\n",
    "import seaborn as sns\n",
    "from pandas_profiling import ProfileReport\n",
    "import matplotlib as mpl\n",
    "from sklearn.preprocessing import OneHotEncoder"
   ]
  },
  {
   "cell_type": "code",
   "execution_count": 2,
   "metadata": {},
   "outputs": [],
   "source": [
    "data = pd.read_csv(\"/Users/Shanti/Desktop/train_agrupado.csv\")\n"
   ]
  },
  {
   "cell_type": "code",
   "execution_count": 3,
   "metadata": {},
   "outputs": [
    {
     "data": {
      "text/plain": [
       "customer_ID     object\n",
       "P_2            float64\n",
       "D_39           float64\n",
       "B_1            float64\n",
       "B_2            float64\n",
       "                ...   \n",
       "D_120          float64\n",
       "D_126            int64\n",
       "D_63            object\n",
       "D_64            object\n",
       "D_68           float64\n",
       "Length: 170, dtype: object"
      ]
     },
     "execution_count": 3,
     "metadata": {},
     "output_type": "execute_result"
    }
   ],
   "source": [
    "data.dtypes"
   ]
  },
  {
   "cell_type": "markdown",
   "metadata": {},
   "source": [
    "Categoricas que hay que usar:B_30, B_38, D_114, D_117, D_120, D_126, D_63, D_64, D_68"
   ]
  },
  {
   "cell_type": "code",
   "execution_count": 4,
   "metadata": {},
   "outputs": [],
   "source": [
    "#Pasar a object las categoricas\n",
    "data['B_30'] =  data['B_30'].astype(str)\n",
    "data['B_38'] =  data['B_38'].astype(str)\n",
    "data['D_114'] =  data['D_114'].astype(str)\n",
    "data['D_117'] =  data['D_117'].astype(str)\n",
    "data['D_120'] =  data['D_120'].astype(str)\n",
    "data['D_126'] =  data['D_126'].astype(str)\n",
    "data['D_63'] =  data['D_63'].astype(str)\n",
    "data['D_64'] =  data['D_64'].astype(str)\n",
    "data['D_68'] =  data['D_68'].astype(str)"
   ]
  },
  {
   "cell_type": "code",
   "execution_count": 5,
   "metadata": {},
   "outputs": [
    {
     "name": "stdout",
     "output_type": "stream",
     "text": [
      "B_30= ['0.0' '1.0' '2.0' 'nan']\n",
      "B_38= ['2.0' '1.0' '3.0' '7.0' '5.0' '6.0' '4.0' 'nan']\n",
      "D_114= ['1.0' '0.0' 'nan']\n",
      "D_117= ['4.0' '-1.0' '6.0' '1.0' '2.0' '5.0' '3.0' 'nan']\n",
      "D_120= ['0.0' '1.0' 'nan']\n",
      "D_126= ['1' '0']\n",
      "D_63= ['CR' 'CO' 'CL' 'XL' 'XZ' 'XM']\n",
      "D_64= ['O' 'R' 'U' 'nan']\n",
      "D_68= ['6.0' '3.0' '5.0' '4.0' '2.0' '1.0' 'nan']\n"
     ]
    }
   ],
   "source": [
    "print(f\"B_30= {data['B_30'].unique()}\")\n",
    "print(f\"B_38= {data['B_38'].unique()}\")\n",
    "print(f\"D_114= {data['D_114'].unique()}\")\n",
    "print(f\"D_117= {data['D_117'].unique()}\")\n",
    "print(f\"D_120= {data['D_120'].unique()}\")\n",
    "print(f\"D_126= {data['D_126'].unique()}\")\n",
    "print(f\"D_63= {data['D_63'].unique()}\")\n",
    "print(f\"D_64= {data['D_64'].unique()}\")\n",
    "print(f\"D_68= {data['D_68'].unique()}\")"
   ]
  },
  {
   "cell_type": "markdown",
   "metadata": {},
   "source": [
    "### Análisis tipo de variables"
   ]
  },
  {
   "cell_type": "code",
   "execution_count": 6,
   "metadata": {},
   "outputs": [
    {
     "data": {
      "text/plain": [
       "(10,\n",
       " array(['customer_ID', 'B_30', 'B_38', 'D_114', 'D_117', 'D_120', 'D_126',\n",
       "        'D_63', 'D_64', 'D_68'], dtype=object))"
      ]
     },
     "execution_count": 6,
     "metadata": {},
     "output_type": "execute_result"
    }
   ],
   "source": [
    "#Variables categóricas\n",
    "\n",
    "string_variables = data.select_dtypes(include = 'object').columns.values\n",
    "(len(string_variables), string_variables)\n"
   ]
  },
  {
   "cell_type": "code",
   "execution_count": 7,
   "metadata": {},
   "outputs": [
    {
     "data": {
      "text/plain": [
       "(160,\n",
       " array(['P_2', 'D_39', 'B_1', 'B_2', 'R_1', 'S_3', 'D_41', 'B_3', 'D_42',\n",
       "        'D_43', 'D_44', 'B_4', 'D_45', 'B_5', 'R_2', 'D_46', 'D_47',\n",
       "        'D_48', 'B_6', 'B_7', 'B_8', 'D_50', 'D_51', 'B_9', 'R_3', 'D_52',\n",
       "        'P_3', 'B_10', 'D_53', 'S_5', 'B_11', 'S_6', 'D_54', 'R_4', 'S_7',\n",
       "        'B_12', 'S_8', 'D_55', 'D_56', 'B_13', 'R_5', 'D_58', 'S_9',\n",
       "        'B_14', 'D_59', 'D_60', 'D_61', 'B_15', 'S_11', 'D_62', 'D_65',\n",
       "        'B_16', 'B_17', 'B_18', 'B_19', 'B_20', 'S_12', 'R_6', 'S_13',\n",
       "        'B_21', 'D_69', 'B_22', 'D_70', 'D_71', 'D_72', 'S_15', 'B_23',\n",
       "        'P_4', 'D_74', 'D_75', 'D_76', 'B_24', 'R_7', 'D_77', 'B_25',\n",
       "        'B_26', 'D_78', 'D_79', 'R_8', 'S_16', 'D_80', 'R_10', 'R_11',\n",
       "        'B_27', 'D_81', 'D_82', 'S_17', 'R_12', 'B_28', 'R_13', 'D_83',\n",
       "        'R_14', 'R_15', 'D_84', 'R_16', 'S_18', 'D_86', 'D_87', 'R_17',\n",
       "        'R_18', 'B_31', 'S_19', 'R_19', 'B_32', 'S_20', 'R_20', 'R_21',\n",
       "        'B_33', 'D_89', 'R_22', 'R_23', 'D_91', 'D_92', 'D_93', 'D_94',\n",
       "        'R_24', 'R_25', 'D_96', 'S_22', 'S_23', 'S_24', 'S_25', 'S_26',\n",
       "        'D_102', 'D_103', 'D_104', 'D_105', 'D_107', 'B_36', 'B_37',\n",
       "        'R_26', 'R_27', 'D_109', 'D_112', 'B_40', 'S_27', 'D_113', 'D_115',\n",
       "        'D_118', 'D_119', 'D_121', 'D_122', 'D_123', 'D_124', 'D_125',\n",
       "        'D_127', 'D_128', 'D_129', 'B_41', 'D_130', 'D_131', 'D_133',\n",
       "        'R_28', 'D_139', 'D_140', 'D_141', 'D_142', 'D_143', 'D_144',\n",
       "        'D_145'], dtype=object))"
      ]
     },
     "execution_count": 7,
     "metadata": {},
     "output_type": "execute_result"
    }
   ],
   "source": [
    "#Variables numéricas\n",
    "\n",
    "number_variables = data.select_dtypes(include = 'number').columns.values\n",
    "(len(number_variables), number_variables)"
   ]
  },
  {
   "cell_type": "code",
   "execution_count": 8,
   "metadata": {},
   "outputs": [
    {
     "name": "stdout",
     "output_type": "stream",
     "text": [
      "Completo\n"
     ]
    }
   ],
   "source": [
    "#Verificar que checamos todos los tipos de variables\n",
    "\n",
    "if (sum([len(number_variables), len(string_variables)]) == data.shape[1]): \n",
    "    print('Completo')\n",
    "else:\n",
    "    print('Faltan columnas')"
   ]
  },
  {
   "cell_type": "markdown",
   "metadata": {},
   "source": [
    "#Generar el reporte\n",
    "profile = ProfileReport(data, title=\"Pandas Profiling Reportv AMEX\")\n",
    "profile.to_notebook_iframe()\n",
    "#Guardamos la salida en un archivo html\n",
    "profile.to_file(\"/Users/Shanti/Desktop/Amex_data_profiling.html\")"
   ]
  },
  {
   "cell_type": "markdown",
   "metadata": {},
   "source": [
    "## Genera el data profiling de las variables "
   ]
  },
  {
   "cell_type": "markdown",
   "metadata": {},
   "source": [
    "#### Categoricas"
   ]
  },
  {
   "cell_type": "code",
   "execution_count": 9,
   "metadata": {},
   "outputs": [],
   "source": [
    "def get_repeated_values(df, col, top):\n",
    "    top_5 = df.groupby([col])[col]\\\n",
    "                    .count()\\\n",
    "                    .sort_values(ascending = False)\\\n",
    "                    .head()\n",
    "    indexes_top_5 = top_5.index\n",
    "    \n",
    "    if ((top == 1) and (len(indexes_top_5) > 0)):\n",
    "        return indexes_top_5[0]\n",
    "    elif ((top == 2) and (len(indexes_top_5) > 1)):\n",
    "        return indexes_top_5[1]\n",
    "    elif ((top == 3) and (len(indexes_top_5) > 2)):\n",
    "        return indexes_top_5[2]\n",
    "    else: \n",
    "        return 'undefined'"
   ]
  },
  {
   "cell_type": "code",
   "execution_count": 10,
   "metadata": {},
   "outputs": [],
   "source": [
    "def category_profiling(df, col, profiling_dict):\n",
    "    \"\"\"\n",
    "    Profiling for categoric columns. \n",
    "    \n",
    "    :param: column to analyze\n",
    "    :return: dictionary\n",
    "    \"\"\"\n",
    "    profiling = {}\n",
    "\n",
    "    profiling.update({'mode': df[col].mode()[0],\n",
    "                     'num_categories': df[col].nunique(),\n",
    "                     'categories': df[col].unique(),\n",
    "                     #'uniques': df[col].nunique(),\n",
    "                     'missings': sum(df[col].isna())/df[col].size*100,\n",
    "                     'top1_repeated': get_repeated_values(df, col, 1),\n",
    "                     'top2_repeated': get_repeated_values(df, col, 2),\n",
    "                     'top3_repeated': get_repeated_values(df, col, 3)})\n",
    "    \n",
    "    profiling_dict.update({col: profiling})\n",
    "    \n",
    "    return profiling_dict"
   ]
  },
  {
   "cell_type": "code",
   "execution_count": 11,
   "metadata": {},
   "outputs": [],
   "source": [
    "profiling_category_dict = {}\n",
    "\n",
    "category_profiling_output = [category_profiling(data, elem, profiling_category_dict)\\\n",
    "                             for elem in string_variables]"
   ]
  },
  {
   "cell_type": "code",
   "execution_count": 12,
   "metadata": {},
   "outputs": [
    {
     "data": {
      "text/html": [
       "<div>\n",
       "<style scoped>\n",
       "    .dataframe tbody tr th:only-of-type {\n",
       "        vertical-align: middle;\n",
       "    }\n",
       "\n",
       "    .dataframe tbody tr th {\n",
       "        vertical-align: top;\n",
       "    }\n",
       "\n",
       "    .dataframe thead th {\n",
       "        text-align: right;\n",
       "    }\n",
       "</style>\n",
       "<table border=\"1\" class=\"dataframe\">\n",
       "  <thead>\n",
       "    <tr style=\"text-align: right;\">\n",
       "      <th></th>\n",
       "      <th>index</th>\n",
       "      <th>customer_ID</th>\n",
       "      <th>B_30</th>\n",
       "      <th>B_38</th>\n",
       "      <th>D_114</th>\n",
       "      <th>D_117</th>\n",
       "      <th>D_120</th>\n",
       "      <th>D_126</th>\n",
       "      <th>D_63</th>\n",
       "      <th>D_64</th>\n",
       "      <th>D_68</th>\n",
       "    </tr>\n",
       "  </thead>\n",
       "  <tbody>\n",
       "    <tr>\n",
       "      <th>0</th>\n",
       "      <td>mode</td>\n",
       "      <td>0000099d6bd597052cdcda90ffabf56573fe9d7c79be5f...</td>\n",
       "      <td>0.0</td>\n",
       "      <td>2.0</td>\n",
       "      <td>1.0</td>\n",
       "      <td>-1.0</td>\n",
       "      <td>0.0</td>\n",
       "      <td>1</td>\n",
       "      <td>CO</td>\n",
       "      <td>O</td>\n",
       "      <td>6.0</td>\n",
       "    </tr>\n",
       "    <tr>\n",
       "      <th>1</th>\n",
       "      <td>num_categories</td>\n",
       "      <td>458913</td>\n",
       "      <td>4</td>\n",
       "      <td>8</td>\n",
       "      <td>3</td>\n",
       "      <td>8</td>\n",
       "      <td>3</td>\n",
       "      <td>2</td>\n",
       "      <td>6</td>\n",
       "      <td>4</td>\n",
       "      <td>7</td>\n",
       "    </tr>\n",
       "    <tr>\n",
       "      <th>2</th>\n",
       "      <td>categories</td>\n",
       "      <td>[0000099d6bd597052cdcda90ffabf56573fe9d7c79be5...</td>\n",
       "      <td>[0.0, 1.0, 2.0, nan]</td>\n",
       "      <td>[2.0, 1.0, 3.0, 7.0, 5.0, 6.0, 4.0, nan]</td>\n",
       "      <td>[1.0, 0.0, nan]</td>\n",
       "      <td>[4.0, -1.0, 6.0, 1.0, 2.0, 5.0, 3.0, nan]</td>\n",
       "      <td>[0.0, 1.0, nan]</td>\n",
       "      <td>[1, 0]</td>\n",
       "      <td>[CR, CO, CL, XL, XZ, XM]</td>\n",
       "      <td>[O, R, U, nan]</td>\n",
       "      <td>[6.0, 3.0, 5.0, 4.0, 2.0, 1.0, nan]</td>\n",
       "    </tr>\n",
       "    <tr>\n",
       "      <th>3</th>\n",
       "      <td>missings</td>\n",
       "      <td>0.0</td>\n",
       "      <td>0.0</td>\n",
       "      <td>0.0</td>\n",
       "      <td>0.0</td>\n",
       "      <td>0.0</td>\n",
       "      <td>0.0</td>\n",
       "      <td>0.0</td>\n",
       "      <td>0.0</td>\n",
       "      <td>0.0</td>\n",
       "      <td>0.0</td>\n",
       "    </tr>\n",
       "    <tr>\n",
       "      <th>4</th>\n",
       "      <td>top1_repeated</td>\n",
       "      <td>0000099d6bd597052cdcda90ffabf56573fe9d7c79be5f...</td>\n",
       "      <td>0.0</td>\n",
       "      <td>2.0</td>\n",
       "      <td>1.0</td>\n",
       "      <td>-1.0</td>\n",
       "      <td>0.0</td>\n",
       "      <td>1</td>\n",
       "      <td>CO</td>\n",
       "      <td>O</td>\n",
       "      <td>6.0</td>\n",
       "    </tr>\n",
       "    <tr>\n",
       "      <th>5</th>\n",
       "      <td>top2_repeated</td>\n",
       "      <td>aab6cd60f43333ffbf74b6500af488da9966c9c5d7bb50...</td>\n",
       "      <td>1.0</td>\n",
       "      <td>3.0</td>\n",
       "      <td>0.0</td>\n",
       "      <td>3.0</td>\n",
       "      <td>1.0</td>\n",
       "      <td>0</td>\n",
       "      <td>CR</td>\n",
       "      <td>U</td>\n",
       "      <td>5.0</td>\n",
       "    </tr>\n",
       "    <tr>\n",
       "      <th>6</th>\n",
       "      <td>top3_repeated</td>\n",
       "      <td>aa5f0a0add6369c75c051f901120fbf459925ba2b4a813...</td>\n",
       "      <td>2.0</td>\n",
       "      <td>1.0</td>\n",
       "      <td>nan</td>\n",
       "      <td>4.0</td>\n",
       "      <td>nan</td>\n",
       "      <td>undefined</td>\n",
       "      <td>CL</td>\n",
       "      <td>R</td>\n",
       "      <td>3.0</td>\n",
       "    </tr>\n",
       "  </tbody>\n",
       "</table>\n",
       "</div>"
      ],
      "text/plain": [
       "            index                                        customer_ID  \\\n",
       "0            mode  0000099d6bd597052cdcda90ffabf56573fe9d7c79be5f...   \n",
       "1  num_categories                                             458913   \n",
       "2      categories  [0000099d6bd597052cdcda90ffabf56573fe9d7c79be5...   \n",
       "3        missings                                                0.0   \n",
       "4   top1_repeated  0000099d6bd597052cdcda90ffabf56573fe9d7c79be5f...   \n",
       "5   top2_repeated  aab6cd60f43333ffbf74b6500af488da9966c9c5d7bb50...   \n",
       "6   top3_repeated  aa5f0a0add6369c75c051f901120fbf459925ba2b4a813...   \n",
       "\n",
       "                   B_30                                      B_38  \\\n",
       "0                   0.0                                       2.0   \n",
       "1                     4                                         8   \n",
       "2  [0.0, 1.0, 2.0, nan]  [2.0, 1.0, 3.0, 7.0, 5.0, 6.0, 4.0, nan]   \n",
       "3                   0.0                                       0.0   \n",
       "4                   0.0                                       2.0   \n",
       "5                   1.0                                       3.0   \n",
       "6                   2.0                                       1.0   \n",
       "\n",
       "             D_114                                      D_117  \\\n",
       "0              1.0                                       -1.0   \n",
       "1                3                                          8   \n",
       "2  [1.0, 0.0, nan]  [4.0, -1.0, 6.0, 1.0, 2.0, 5.0, 3.0, nan]   \n",
       "3              0.0                                        0.0   \n",
       "4              1.0                                       -1.0   \n",
       "5              0.0                                        3.0   \n",
       "6              nan                                        4.0   \n",
       "\n",
       "             D_120      D_126                      D_63            D_64  \\\n",
       "0              0.0          1                        CO               O   \n",
       "1                3          2                         6               4   \n",
       "2  [0.0, 1.0, nan]     [1, 0]  [CR, CO, CL, XL, XZ, XM]  [O, R, U, nan]   \n",
       "3              0.0        0.0                       0.0             0.0   \n",
       "4              0.0          1                        CO               O   \n",
       "5              1.0          0                        CR               U   \n",
       "6              nan  undefined                        CL               R   \n",
       "\n",
       "                                  D_68  \n",
       "0                                  6.0  \n",
       "1                                    7  \n",
       "2  [6.0, 3.0, 5.0, 4.0, 2.0, 1.0, nan]  \n",
       "3                                  0.0  \n",
       "4                                  6.0  \n",
       "5                                  5.0  \n",
       "6                                  3.0  "
      ]
     },
     "execution_count": 12,
     "metadata": {},
     "output_type": "execute_result"
    }
   ],
   "source": [
    "#category_profiling_output\n",
    "\n",
    "df_category_profiling = pd.DataFrame(category_profiling_output[0]).reset_index()\n",
    "df_category_profiling"
   ]
  },
  {
   "cell_type": "code",
   "execution_count": 13,
   "metadata": {},
   "outputs": [
    {
     "name": "stdout",
     "output_type": "stream",
     "text": [
      "B_30= 0\n",
      "B_38= 0\n",
      "D_114= 0\n",
      "D_117= 0\n",
      "D_120= 0\n",
      "D_126= 0\n",
      "D_63= 0\n",
      "D_64= 0\n",
      "D_68= 0\n"
     ]
    }
   ],
   "source": [
    "print(f\"B_30= {data['B_30'].isna().sum()}\")\n",
    "print(f\"B_38= {data['B_38'].isna().sum()}\")\n",
    "print(f\"D_114= {data['D_114'].isna().sum()}\")\n",
    "print(f\"D_117= {data['D_117'].isna().sum()}\")\n",
    "print(f\"D_120= {data['D_120'].isna().sum()}\")\n",
    "print(f\"D_126= {data['D_126'].isna().sum()}\")\n",
    "print(f\"D_63= {data['D_63'].isna().sum()}\")\n",
    "print(f\"D_64= {data['D_64'].isna().sum()}\")\n",
    "print(f\"D_68= {data['D_68'].isna().sum()}\")"
   ]
  },
  {
   "cell_type": "markdown",
   "metadata": {},
   "source": [
    "#Reemplazamos todos los nan por other de las categoricas\n",
    "data['B_30'].fillna('other',inplace=True)\n",
    "data['B_38'].fillna('other',inplace=True)\n",
    "data['D_114'].fillna('other',inplace=True)\n",
    "data['D_117'].fillna('other',inplace=True)\n",
    "data['D_120'].fillna('other',inplace=True)\n",
    "data['D_126'].fillna('other',inplace=True)\n",
    "data['D_63'].fillna('other',inplace=True)\n",
    "data['D_64'].fillna('other',inplace=True)\n",
    "data['D_68'].fillna('other',inplace=True)\n",
    "\n"
   ]
  },
  {
   "cell_type": "markdown",
   "metadata": {},
   "source": [
    "print(f\"B_30= {data['B_30'].isna().sum()}\")\n",
    "print(f\"B_38= {data['B_38'].isna().sum()}\")\n",
    "print(f\"D_114= {data['D_114'].isna().sum()}\")\n",
    "print(f\"D_117= {data['D_117'].isna().sum()}\")\n",
    "print(f\"D_120= {data['D_120'].isna().sum()}\")\n",
    "print(f\"D_126= {data['D_126'].isna().sum()}\")\n",
    "print(f\"D_63= {data['D_63'].isna().sum()}\")\n",
    "print(f\"D_64= {data['D_64'].isna().sum()}\")\n",
    "print(f\"D_68= {data['D_68'].isna().sum()}\")"
   ]
  },
  {
   "cell_type": "markdown",
   "metadata": {},
   "source": [
    "#### Numericas"
   ]
  },
  {
   "cell_type": "code",
   "execution_count": 14,
   "metadata": {},
   "outputs": [],
   "source": [
    "# con talacha\n",
    "def numeric_profiling(df, col, profiling_dict):\n",
    "    \"\"\"\n",
    "    Profiling for numeric columns. \n",
    "    \n",
    "    :param: column to analyze\n",
    "    :return: dictionary\n",
    "    \"\"\"\n",
    "    profiling = {}\n",
    "\n",
    "    profiling.update({'max': df[col].max(),\n",
    "                     'min': df[col].min(),\n",
    "                     'mean': df[col].mean(),\n",
    "                     'stdv': df[col].std(),\n",
    "                     '25%': df[col].quantile(.25),\n",
    "                     'median': df[col].median(),\n",
    "                     '75%': df[col].quantile(.75),\n",
    "                     'kurtosis': df[col].kurt(),\n",
    "                     'skewness': df[col].skew(),\n",
    "                     'uniques': df[col].nunique(),\n",
    "                     'prop_missings': sum(df[col].isna())/df[col].size*100,\n",
    "                     'top1_repeated': get_repeated_values(df, col, 1),\n",
    "                     'top2_repeated': get_repeated_values(df, col, 2),\n",
    "                     'top3_repeated': get_repeated_values(df, col, 3)})\n",
    "    \n",
    "    profiling_dict.update({col: profiling})\n",
    "    \n",
    "    return profiling_dict"
   ]
  },
  {
   "cell_type": "code",
   "execution_count": 15,
   "metadata": {},
   "outputs": [],
   "source": [
    "profiling_dict = {}\n",
    "\n",
    "numeric_profiling_output = [numeric_profiling(data, elem, profiling_dict)\\\n",
    "                            for elem in number_variables]"
   ]
  },
  {
   "cell_type": "code",
   "execution_count": 16,
   "metadata": {},
   "outputs": [
    {
     "data": {
      "text/html": [
       "<div>\n",
       "<style scoped>\n",
       "    .dataframe tbody tr th:only-of-type {\n",
       "        vertical-align: middle;\n",
       "    }\n",
       "\n",
       "    .dataframe tbody tr th {\n",
       "        vertical-align: top;\n",
       "    }\n",
       "\n",
       "    .dataframe thead th {\n",
       "        text-align: right;\n",
       "    }\n",
       "</style>\n",
       "<table border=\"1\" class=\"dataframe\">\n",
       "  <thead>\n",
       "    <tr style=\"text-align: right;\">\n",
       "      <th></th>\n",
       "      <th>metric</th>\n",
       "      <th>P_2</th>\n",
       "      <th>D_39</th>\n",
       "      <th>B_1</th>\n",
       "      <th>B_2</th>\n",
       "      <th>R_1</th>\n",
       "      <th>S_3</th>\n",
       "      <th>D_41</th>\n",
       "      <th>B_3</th>\n",
       "      <th>D_42</th>\n",
       "      <th>...</th>\n",
       "      <th>D_131</th>\n",
       "      <th>D_133</th>\n",
       "      <th>R_28</th>\n",
       "      <th>D_139</th>\n",
       "      <th>D_140</th>\n",
       "      <th>D_141</th>\n",
       "      <th>D_142</th>\n",
       "      <th>D_143</th>\n",
       "      <th>D_144</th>\n",
       "      <th>D_145</th>\n",
       "    </tr>\n",
       "  </thead>\n",
       "  <tbody>\n",
       "    <tr>\n",
       "      <th>0</th>\n",
       "      <td>max</td>\n",
       "      <td>1.009993</td>\n",
       "      <td>4.594308</td>\n",
       "      <td>1.324059</td>\n",
       "      <td>1.009981</td>\n",
       "      <td>2.006159e+00</td>\n",
       "      <td>3.860899</td>\n",
       "      <td>5.731491</td>\n",
       "      <td>1.500520e+00</td>\n",
       "      <td>4.185518</td>\n",
       "      <td>...</td>\n",
       "      <td>1.425960</td>\n",
       "      <td>1.508814</td>\n",
       "      <td>1.009383</td>\n",
       "      <td>1.010000e+00</td>\n",
       "      <td>1.009928</td>\n",
       "      <td>1.329469e+00</td>\n",
       "      <td>2.207524</td>\n",
       "      <td>1.009994</td>\n",
       "      <td>1.342895</td>\n",
       "      <td>4.767686e+00</td>\n",
       "    </tr>\n",
       "    <tr>\n",
       "      <th>1</th>\n",
       "      <td>min</td>\n",
       "      <td>-0.338276</td>\n",
       "      <td>0.000001</td>\n",
       "      <td>-1.891373</td>\n",
       "      <td>0.000014</td>\n",
       "      <td>6.440720e-07</td>\n",
       "      <td>-0.369208</td>\n",
       "      <td>0.000005</td>\n",
       "      <td>1.323113e-07</td>\n",
       "      <td>-0.000228</td>\n",
       "      <td>...</td>\n",
       "      <td>0.000002</td>\n",
       "      <td>0.000001</td>\n",
       "      <td>0.000002</td>\n",
       "      <td>4.765086e-07</td>\n",
       "      <td>0.000003</td>\n",
       "      <td>1.402358e-07</td>\n",
       "      <td>-0.011438</td>\n",
       "      <td>0.000001</td>\n",
       "      <td>0.000004</td>\n",
       "      <td>3.944042e-07</td>\n",
       "    </tr>\n",
       "    <tr>\n",
       "      <th>2</th>\n",
       "      <td>mean</td>\n",
       "      <td>0.648328</td>\n",
       "      <td>0.151704</td>\n",
       "      <td>0.126626</td>\n",
       "      <td>0.621045</td>\n",
       "      <td>8.019296e-02</td>\n",
       "      <td>0.230526</td>\n",
       "      <td>0.058600</td>\n",
       "      <td>1.279045e-01</td>\n",
       "      <td>0.180571</td>\n",
       "      <td>...</td>\n",
       "      <td>0.106490</td>\n",
       "      <td>0.046158</td>\n",
       "      <td>0.006081</td>\n",
       "      <td>1.829362e-01</td>\n",
       "      <td>0.027574</td>\n",
       "      <td>1.680407e-01</td>\n",
       "      <td>0.382473</td>\n",
       "      <td>0.182813</td>\n",
       "      <td>0.051679</td>\n",
       "      <td>6.414677e-02</td>\n",
       "    </tr>\n",
       "    <tr>\n",
       "      <th>3</th>\n",
       "      <td>stdv</td>\n",
       "      <td>0.236561</td>\n",
       "      <td>0.164872</td>\n",
       "      <td>0.198291</td>\n",
       "      <td>0.350248</td>\n",
       "      <td>1.583059e-01</td>\n",
       "      <td>0.170299</td>\n",
       "      <td>0.167448</td>\n",
       "      <td>2.146646e-01</td>\n",
       "      <td>0.233323</td>\n",
       "      <td>...</td>\n",
       "      <td>0.281140</td>\n",
       "      <td>0.152238</td>\n",
       "      <td>0.026871</td>\n",
       "      <td>3.777257e-01</td>\n",
       "      <td>0.131199</td>\n",
       "      <td>3.467247e-01</td>\n",
       "      <td>0.237560</td>\n",
       "      <td>0.377627</td>\n",
       "      <td>0.173223</td>\n",
       "      <td>1.948591e-01</td>\n",
       "    </tr>\n",
       "    <tr>\n",
       "      <th>4</th>\n",
       "      <td>25%</td>\n",
       "      <td>0.468271</td>\n",
       "      <td>0.019604</td>\n",
       "      <td>0.016473</td>\n",
       "      <td>0.266925</td>\n",
       "      <td>4.836524e-03</td>\n",
       "      <td>0.135158</td>\n",
       "      <td>0.004615</td>\n",
       "      <td>5.713282e-03</td>\n",
       "      <td>0.035002</td>\n",
       "      <td>...</td>\n",
       "      <td>0.004523</td>\n",
       "      <td>0.004506</td>\n",
       "      <td>0.004426</td>\n",
       "      <td>4.570016e-03</td>\n",
       "      <td>0.004448</td>\n",
       "      <td>4.567692e-03</td>\n",
       "      <td>0.184978</td>\n",
       "      <td>0.004571</td>\n",
       "      <td>0.004498</td>\n",
       "      <td>4.570105e-03</td>\n",
       "    </tr>\n",
       "    <tr>\n",
       "      <th>5</th>\n",
       "      <td>median</td>\n",
       "      <td>0.678504</td>\n",
       "      <td>0.109802</td>\n",
       "      <td>0.038720</td>\n",
       "      <td>0.814050</td>\n",
       "      <td>5.850130e-03</td>\n",
       "      <td>0.173903</td>\n",
       "      <td>0.005337</td>\n",
       "      <td>1.187884e-02</td>\n",
       "      <td>0.114856</td>\n",
       "      <td>...</td>\n",
       "      <td>0.005173</td>\n",
       "      <td>0.005139</td>\n",
       "      <td>0.005002</td>\n",
       "      <td>5.250672e-03</td>\n",
       "      <td>0.005043</td>\n",
       "      <td>5.251024e-03</td>\n",
       "      <td>0.373567</td>\n",
       "      <td>0.005251</td>\n",
       "      <td>0.005127</td>\n",
       "      <td>5.253673e-03</td>\n",
       "    </tr>\n",
       "    <tr>\n",
       "      <th>6</th>\n",
       "      <td>75%</td>\n",
       "      <td>0.856143</td>\n",
       "      <td>0.230453</td>\n",
       "      <td>0.139604</td>\n",
       "      <td>0.909264</td>\n",
       "      <td>8.174078e-02</td>\n",
       "      <td>0.273648</td>\n",
       "      <td>0.006902</td>\n",
       "      <td>1.603244e-01</td>\n",
       "      <td>0.241570</td>\n",
       "      <td>...</td>\n",
       "      <td>0.005970</td>\n",
       "      <td>0.005884</td>\n",
       "      <td>0.005580</td>\n",
       "      <td>6.250849e-03</td>\n",
       "      <td>0.005664</td>\n",
       "      <td>6.247017e-03</td>\n",
       "      <td>0.558107</td>\n",
       "      <td>0.006243</td>\n",
       "      <td>0.005852</td>\n",
       "      <td>6.247581e-03</td>\n",
       "    </tr>\n",
       "    <tr>\n",
       "      <th>7</th>\n",
       "      <td>kurtosis</td>\n",
       "      <td>-0.594014</td>\n",
       "      <td>29.364890</td>\n",
       "      <td>7.216206</td>\n",
       "      <td>-1.255476</td>\n",
       "      <td>1.215677e+01</td>\n",
       "      <td>12.336937</td>\n",
       "      <td>64.598155</td>\n",
       "      <td>4.465712e+00</td>\n",
       "      <td>41.926404</td>\n",
       "      <td>...</td>\n",
       "      <td>5.062979</td>\n",
       "      <td>22.752363</td>\n",
       "      <td>849.463411</td>\n",
       "      <td>8.655390e-01</td>\n",
       "      <td>40.764819</td>\n",
       "      <td>9.367348e-01</td>\n",
       "      <td>0.375561</td>\n",
       "      <td>0.869243</td>\n",
       "      <td>18.931979</td>\n",
       "      <td>3.976196e+01</td>\n",
       "    </tr>\n",
       "    <tr>\n",
       "      <th>8</th>\n",
       "      <td>skewness</td>\n",
       "      <td>-0.483770</td>\n",
       "      <td>2.998857</td>\n",
       "      <td>2.568350</td>\n",
       "      <td>-0.571804</td>\n",
       "      <td>3.138372e+00</td>\n",
       "      <td>2.687044</td>\n",
       "      <td>6.292655</td>\n",
       "      <td>2.175458e+00</td>\n",
       "      <td>4.618223</td>\n",
       "      <td>...</td>\n",
       "      <td>2.602649</td>\n",
       "      <td>4.559533</td>\n",
       "      <td>28.011430</td>\n",
       "      <td>1.682745e+00</td>\n",
       "      <td>6.364042</td>\n",
       "      <td>1.696444e+00</td>\n",
       "      <td>0.480493</td>\n",
       "      <td>1.683849</td>\n",
       "      <td>4.289567</td>\n",
       "      <td>5.404636e+00</td>\n",
       "    </tr>\n",
       "    <tr>\n",
       "      <th>9</th>\n",
       "      <td>uniques</td>\n",
       "      <td>456479.000000</td>\n",
       "      <td>458913.000000</td>\n",
       "      <td>458913.000000</td>\n",
       "      <td>458882.000000</td>\n",
       "      <td>4.589130e+05</td>\n",
       "      <td>402317.000000</td>\n",
       "      <td>458882.000000</td>\n",
       "      <td>4.588820e+05</td>\n",
       "      <td>113524.000000</td>\n",
       "      <td>...</td>\n",
       "      <td>456381.000000</td>\n",
       "      <td>458913.000000</td>\n",
       "      <td>458913.000000</td>\n",
       "      <td>4.563810e+05</td>\n",
       "      <td>458913.000000</td>\n",
       "      <td>4.563810e+05</td>\n",
       "      <td>85580.000000</td>\n",
       "      <td>456381.000000</td>\n",
       "      <td>458913.000000</td>\n",
       "      <td>4.563810e+05</td>\n",
       "    </tr>\n",
       "    <tr>\n",
       "      <th>10</th>\n",
       "      <td>prop_missings</td>\n",
       "      <td>0.530384</td>\n",
       "      <td>0.000000</td>\n",
       "      <td>0.000000</td>\n",
       "      <td>0.006755</td>\n",
       "      <td>0.000000e+00</td>\n",
       "      <td>12.332621</td>\n",
       "      <td>0.006755</td>\n",
       "      <td>6.755093e-03</td>\n",
       "      <td>75.262414</td>\n",
       "      <td>...</td>\n",
       "      <td>0.551739</td>\n",
       "      <td>0.000000</td>\n",
       "      <td>0.000000</td>\n",
       "      <td>5.517386e-01</td>\n",
       "      <td>0.000000</td>\n",
       "      <td>5.517386e-01</td>\n",
       "      <td>81.351585</td>\n",
       "      <td>0.551739</td>\n",
       "      <td>0.000000</td>\n",
       "      <td>5.517386e-01</td>\n",
       "    </tr>\n",
       "    <tr>\n",
       "      <th>11</th>\n",
       "      <td>top1_repeated</td>\n",
       "      <td>-0.338276</td>\n",
       "      <td>0.000001</td>\n",
       "      <td>-1.891373</td>\n",
       "      <td>0.000014</td>\n",
       "      <td>6.440720e-07</td>\n",
       "      <td>-0.369208</td>\n",
       "      <td>0.000005</td>\n",
       "      <td>1.323113e-07</td>\n",
       "      <td>-0.000228</td>\n",
       "      <td>...</td>\n",
       "      <td>0.000002</td>\n",
       "      <td>0.000001</td>\n",
       "      <td>0.000002</td>\n",
       "      <td>4.765086e-07</td>\n",
       "      <td>0.000003</td>\n",
       "      <td>1.402358e-07</td>\n",
       "      <td>-0.011438</td>\n",
       "      <td>0.000001</td>\n",
       "      <td>0.000004</td>\n",
       "      <td>3.944042e-07</td>\n",
       "    </tr>\n",
       "    <tr>\n",
       "      <th>12</th>\n",
       "      <td>top2_repeated</td>\n",
       "      <td>0.805719</td>\n",
       "      <td>0.185604</td>\n",
       "      <td>0.088423</td>\n",
       "      <td>0.844267</td>\n",
       "      <td>4.286768e-02</td>\n",
       "      <td>0.226811</td>\n",
       "      <td>0.005988</td>\n",
       "      <td>8.049725e-02</td>\n",
       "      <td>0.189349</td>\n",
       "      <td>...</td>\n",
       "      <td>0.005644</td>\n",
       "      <td>0.005590</td>\n",
       "      <td>0.005374</td>\n",
       "      <td>5.789803e-03</td>\n",
       "      <td>0.005437</td>\n",
       "      <td>5.791688e-03</td>\n",
       "      <td>0.506156</td>\n",
       "      <td>0.005791</td>\n",
       "      <td>0.005570</td>\n",
       "      <td>5.790204e-03</td>\n",
       "    </tr>\n",
       "    <tr>\n",
       "      <th>13</th>\n",
       "      <td>top3_repeated</td>\n",
       "      <td>0.805734</td>\n",
       "      <td>0.184908</td>\n",
       "      <td>0.087789</td>\n",
       "      <td>0.844090</td>\n",
       "      <td>4.279931e-02</td>\n",
       "      <td>0.226809</td>\n",
       "      <td>0.005980</td>\n",
       "      <td>7.949175e-02</td>\n",
       "      <td>0.189396</td>\n",
       "      <td>...</td>\n",
       "      <td>0.005644</td>\n",
       "      <td>0.005586</td>\n",
       "      <td>0.005371</td>\n",
       "      <td>5.789898e-03</td>\n",
       "      <td>0.005433</td>\n",
       "      <td>5.791761e-03</td>\n",
       "      <td>0.506145</td>\n",
       "      <td>0.005791</td>\n",
       "      <td>0.005566</td>\n",
       "      <td>5.790333e-03</td>\n",
       "    </tr>\n",
       "  </tbody>\n",
       "</table>\n",
       "<p>14 rows × 161 columns</p>\n",
       "</div>"
      ],
      "text/plain": [
       "           metric            P_2           D_39            B_1            B_2  \\\n",
       "0             max       1.009993       4.594308       1.324059       1.009981   \n",
       "1             min      -0.338276       0.000001      -1.891373       0.000014   \n",
       "2            mean       0.648328       0.151704       0.126626       0.621045   \n",
       "3            stdv       0.236561       0.164872       0.198291       0.350248   \n",
       "4             25%       0.468271       0.019604       0.016473       0.266925   \n",
       "5          median       0.678504       0.109802       0.038720       0.814050   \n",
       "6             75%       0.856143       0.230453       0.139604       0.909264   \n",
       "7        kurtosis      -0.594014      29.364890       7.216206      -1.255476   \n",
       "8        skewness      -0.483770       2.998857       2.568350      -0.571804   \n",
       "9         uniques  456479.000000  458913.000000  458913.000000  458882.000000   \n",
       "10  prop_missings       0.530384       0.000000       0.000000       0.006755   \n",
       "11  top1_repeated      -0.338276       0.000001      -1.891373       0.000014   \n",
       "12  top2_repeated       0.805719       0.185604       0.088423       0.844267   \n",
       "13  top3_repeated       0.805734       0.184908       0.087789       0.844090   \n",
       "\n",
       "             R_1            S_3           D_41           B_3           D_42  \\\n",
       "0   2.006159e+00       3.860899       5.731491  1.500520e+00       4.185518   \n",
       "1   6.440720e-07      -0.369208       0.000005  1.323113e-07      -0.000228   \n",
       "2   8.019296e-02       0.230526       0.058600  1.279045e-01       0.180571   \n",
       "3   1.583059e-01       0.170299       0.167448  2.146646e-01       0.233323   \n",
       "4   4.836524e-03       0.135158       0.004615  5.713282e-03       0.035002   \n",
       "5   5.850130e-03       0.173903       0.005337  1.187884e-02       0.114856   \n",
       "6   8.174078e-02       0.273648       0.006902  1.603244e-01       0.241570   \n",
       "7   1.215677e+01      12.336937      64.598155  4.465712e+00      41.926404   \n",
       "8   3.138372e+00       2.687044       6.292655  2.175458e+00       4.618223   \n",
       "9   4.589130e+05  402317.000000  458882.000000  4.588820e+05  113524.000000   \n",
       "10  0.000000e+00      12.332621       0.006755  6.755093e-03      75.262414   \n",
       "11  6.440720e-07      -0.369208       0.000005  1.323113e-07      -0.000228   \n",
       "12  4.286768e-02       0.226811       0.005988  8.049725e-02       0.189349   \n",
       "13  4.279931e-02       0.226809       0.005980  7.949175e-02       0.189396   \n",
       "\n",
       "    ...          D_131          D_133           R_28         D_139  \\\n",
       "0   ...       1.425960       1.508814       1.009383  1.010000e+00   \n",
       "1   ...       0.000002       0.000001       0.000002  4.765086e-07   \n",
       "2   ...       0.106490       0.046158       0.006081  1.829362e-01   \n",
       "3   ...       0.281140       0.152238       0.026871  3.777257e-01   \n",
       "4   ...       0.004523       0.004506       0.004426  4.570016e-03   \n",
       "5   ...       0.005173       0.005139       0.005002  5.250672e-03   \n",
       "6   ...       0.005970       0.005884       0.005580  6.250849e-03   \n",
       "7   ...       5.062979      22.752363     849.463411  8.655390e-01   \n",
       "8   ...       2.602649       4.559533      28.011430  1.682745e+00   \n",
       "9   ...  456381.000000  458913.000000  458913.000000  4.563810e+05   \n",
       "10  ...       0.551739       0.000000       0.000000  5.517386e-01   \n",
       "11  ...       0.000002       0.000001       0.000002  4.765086e-07   \n",
       "12  ...       0.005644       0.005590       0.005374  5.789803e-03   \n",
       "13  ...       0.005644       0.005586       0.005371  5.789898e-03   \n",
       "\n",
       "            D_140         D_141         D_142          D_143          D_144  \\\n",
       "0        1.009928  1.329469e+00      2.207524       1.009994       1.342895   \n",
       "1        0.000003  1.402358e-07     -0.011438       0.000001       0.000004   \n",
       "2        0.027574  1.680407e-01      0.382473       0.182813       0.051679   \n",
       "3        0.131199  3.467247e-01      0.237560       0.377627       0.173223   \n",
       "4        0.004448  4.567692e-03      0.184978       0.004571       0.004498   \n",
       "5        0.005043  5.251024e-03      0.373567       0.005251       0.005127   \n",
       "6        0.005664  6.247017e-03      0.558107       0.006243       0.005852   \n",
       "7       40.764819  9.367348e-01      0.375561       0.869243      18.931979   \n",
       "8        6.364042  1.696444e+00      0.480493       1.683849       4.289567   \n",
       "9   458913.000000  4.563810e+05  85580.000000  456381.000000  458913.000000   \n",
       "10       0.000000  5.517386e-01     81.351585       0.551739       0.000000   \n",
       "11       0.000003  1.402358e-07     -0.011438       0.000001       0.000004   \n",
       "12       0.005437  5.791688e-03      0.506156       0.005791       0.005570   \n",
       "13       0.005433  5.791761e-03      0.506145       0.005791       0.005566   \n",
       "\n",
       "           D_145  \n",
       "0   4.767686e+00  \n",
       "1   3.944042e-07  \n",
       "2   6.414677e-02  \n",
       "3   1.948591e-01  \n",
       "4   4.570105e-03  \n",
       "5   5.253673e-03  \n",
       "6   6.247581e-03  \n",
       "7   3.976196e+01  \n",
       "8   5.404636e+00  \n",
       "9   4.563810e+05  \n",
       "10  5.517386e-01  \n",
       "11  3.944042e-07  \n",
       "12  5.790204e-03  \n",
       "13  5.790333e-03  \n",
       "\n",
       "[14 rows x 161 columns]"
      ]
     },
     "execution_count": 16,
     "metadata": {},
     "output_type": "execute_result"
    }
   ],
   "source": [
    "df_numeric_profiling = pd.DataFrame(numeric_profiling_output[0]).reset_index()\n",
    "df_numeric_profiling.rename(columns={'index': 'metric'}, inplace=True)\n",
    "df_numeric_profiling"
   ]
  },
  {
   "cell_type": "markdown",
   "metadata": {},
   "source": [
    "#Contar cuantas observaciones vacías tienen las variables numericas\n",
    "print(f\"P_2= {data['P_2'].isna().sum()}\")\n",
    "print(f\"D_39= {data['D_39'].isna().sum()}\")\n",
    "print(f\"B_1= {data['B_1'].isna().sum()}\")\n",
    "print(f\"B_2= {data['B_2'].isna().sum()}\")\n",
    "print(f\"R_1= {data['R_1'].isna().sum()}\")\n",
    "print(f\"S_3= {data['S_3'].isna().sum()}\")\n",
    "print(f\"B_3= {data['B_3'].isna().sum()}\")\n",
    "print(f\"D_42= {data['D_42'].isna().sum()}\")\n",
    "print(f\"D_43= {data['D_43'].isna().sum()}\")\n",
    "print(f\"D_44= {data['D_44'].isna().sum()}\")\n",
    "print(f\"B_4= {data['B_4'].isna().sum()}\")\n",
    "print(f\"B_5= {data['B_5'].isna().sum()}\")\n",
    "print(f\"R_2= {data['R_2'].isna().sum()}\")\n",
    "print(f\"D_46= {data['D_46'].isna().sum()}\")\n",
    "print(f\"D_47= {data['D_47'].isna().sum()}\")\n",
    "print(f\"D_48= {data['D_48'].isna().sum()}\")\n",
    "print(f\"B_6= {data['B_6'].isna().sum()}\")\n",
    "print(f\"B_7= {data['B_7'].isna().sum()}\")\n",
    "print(f\"B_8= {data['B_8'].isna().sum()}\")\n",
    "print(f\"D_50= {data['D_50'].isna().sum()}\")\n",
    "print(f\"D_51= {data['D_51'].isna().sum()}\")\n",
    "print(f\"B_9= {data['B_9'].isna().sum()}\")\n",
    "print(f\"R_3= {data['R_3'].isna().sum()}\")\n",
    "print(f\"D_52= {data['D_52'].isna().sum()}\")\n",
    "print(f\"P_3= {data['P_3'].isna().sum()}\")\n",
    "print(f\"B_10= {data['B_10'].isna().sum()}\")\n",
    "print(f\"D_53= {data['D_53'].isna().sum()}\")\n",
    "print(f\"S_5= {data['S_5'].isna().sum()}\")\n",
    "print(f\"B_11= {data['B_11'].isna().sum()}\")\n",
    "print(f\"S_6= {data['S_6'].isna().sum()}\")\n",
    "print(f\"D_54= {data['D_54'].isna().sum()}\")\n",
    "print(f\"R_4= {data['R_4'].isna().sum()}\")\n",
    "print(f\"S_7= {data['S_7'].isna().sum()}\")\n",
    "print(f\"S_6= {data['S_6'].isna().sum()}\")\n",
    "print(f\"S_6= {data['S_6'].isna().sum()}\")\n",
    "print(f\"S_6= {data['S_6'].isna().sum()}\")\n",
    "print(f\"S_6= {data['S_6'].isna().sum()}\")\n",
    "print(f\"S_6= {data['S_6'].isna().sum()}\")\n",
    "print(f\"S_6= {data['S_6'].isna().sum()}\")\n",
    "print(f\"S_6= {data['S_6'].isna().sum()}\")\n",
    "print(f\"S_6= {data['S_6'].isna().sum()}\")\n",
    "print(f\"S_6= {data['S_6'].isna().sum()}\")\n",
    "print(f\"S_6= {data['S_6'].isna().sum()}\")\n",
    "print(f\"S_6= {data['S_6'].isna().sum()}\")\n",
    "print(f\"S_6= {data['S_6'].isna().sum()}\")\n",
    "print(f\"S_6= {data['S_6'].isna().sum()}\")\n",
    "print(f\"S_6= {data['S_6'].isna().sum()}\")\n",
    "print(f\"S_6= {data['S_6'].isna().sum()}\")\n",
    "print(f\"S_6= {data['S_6'].isna().sum()}\")\n",
    "print(f\"S_6= {data['S_6'].isna().sum()}\")\n",
    "print(f\"S_6= {data['S_6'].isna().sum()}\")\n",
    "print(f\"S_6= {data['S_6'].isna().sum()}\")\n",
    "print(f\"S_6= {data['S_6'].isna().sum()}\")\n",
    "print(f\"S_6= {data['S_6'].isna().sum()}\")\n",
    "print(f\"S_6= {data['S_6'].isna().sum()}\")\n",
    "print(f\"S_6= {data['S_6'].isna().sum()}\")\n",
    "print(f\"S_6= {data['S_6'].isna().sum()}\")\n",
    "print(f\"S_6= {data['S_6'].isna().sum()}\")\n",
    "print(f\"S_6= {data['S_6'].isna().sum()}\")\n",
    "print(f\"S_6= {data['S_6'].isna().sum()}\")\n",
    "print(f\"S_6= {data['S_6'].isna().sum()}\")\n",
    "print(f\"S_6= {data['S_6'].isna().sum()}\")\n",
    "print(f\"S_6= {data['S_6'].isna().sum()}\")\n",
    "print(f\"S_6= {data['S_6'].isna().sum()}\")"
   ]
  },
  {
   "cell_type": "markdown",
   "metadata": {},
   "source": [
    "1. ¿Cuál es la variable target? Churn\n",
    "\n",
    "**Es peor decir que no se salen los clientes cuando sí**\n",
    "\n",
    "- Etiqueta Positiva= Sí abandona la compañía\n",
    "- Etiqueta Negativa= No abandona la compañía \n",
    "- TP= el modelos dice que abandona y la etiqueta real dice que sí abandona\n",
    "- TN= el modelo dice que no abondona y la etiqueta real dice que no abondona\n",
    "- FN= el modelo dice que no abandona y la etiqueta real dice que sí abandona -> **Queremos reducir esta**\n",
    "- FP=el modelo dice que sí abandona y la etiqueta real dice que no abandona\n",
    "\n",
    "**Debemos optimizar: minimizar FN\n",
    "Minimizar los FN porque le sale más caro a una empresa pensar que sí cuenta con esos clientes cuando en realidad ya no. \n",
    "\n",
    "**¿Qué métrica de desempeño deberás optimizar para cumplir con el punto anterior**\n",
    "\n",
    "Nos importa más **Recall** =TP/(TP+FN). Esta métrica la ocupamos cuando en el contexto de negocio del problema es más conveniente minimizar los falsos negativos. Consideramos también que era mejor ocupar **recall**, ya que sirve para modelos en los que se quiere hacer intervenciones positivas. En este caso, queremos predecir estos clientes que se quieren ir y evitar que se vayan."
   ]
  },
  {
   "cell_type": "code",
   "execution_count": 17,
   "metadata": {},
   "outputs": [
    {
     "data": {
      "text/plain": [
       "customer_ID    object\n",
       "target          int64\n",
       "dtype: object"
      ]
     },
     "execution_count": 17,
     "metadata": {},
     "output_type": "execute_result"
    }
   ],
   "source": [
    "data_trainlabels = pd.read_csv(\"/Users/Shanti/Desktop/train_labels.csv\")\n",
    "data_trainlabels.dtypes"
   ]
  },
  {
   "cell_type": "code",
   "execution_count": 18,
   "metadata": {},
   "outputs": [
    {
     "data": {
      "text/plain": [
       "458913"
      ]
     },
     "execution_count": 18,
     "metadata": {},
     "output_type": "execute_result"
    }
   ],
   "source": [
    "data_trainlabels.shape[0]"
   ]
  },
  {
   "cell_type": "code",
   "execution_count": 19,
   "metadata": {},
   "outputs": [
    {
     "data": {
      "text/html": [
       "<div>\n",
       "<style scoped>\n",
       "    .dataframe tbody tr th:only-of-type {\n",
       "        vertical-align: middle;\n",
       "    }\n",
       "\n",
       "    .dataframe tbody tr th {\n",
       "        vertical-align: top;\n",
       "    }\n",
       "\n",
       "    .dataframe thead th {\n",
       "        text-align: right;\n",
       "    }\n",
       "</style>\n",
       "<table border=\"1\" class=\"dataframe\">\n",
       "  <thead>\n",
       "    <tr style=\"text-align: right;\">\n",
       "      <th></th>\n",
       "      <th>customer_ID</th>\n",
       "      <th>target</th>\n",
       "    </tr>\n",
       "  </thead>\n",
       "  <tbody>\n",
       "    <tr>\n",
       "      <th>0</th>\n",
       "      <td>0000099d6bd597052cdcda90ffabf56573fe9d7c79be5f...</td>\n",
       "      <td>0</td>\n",
       "    </tr>\n",
       "    <tr>\n",
       "      <th>1</th>\n",
       "      <td>00000fd6641609c6ece5454664794f0340ad84dddce9a2...</td>\n",
       "      <td>0</td>\n",
       "    </tr>\n",
       "    <tr>\n",
       "      <th>2</th>\n",
       "      <td>00001b22f846c82c51f6e3958ccd81970162bae8b007e8...</td>\n",
       "      <td>0</td>\n",
       "    </tr>\n",
       "  </tbody>\n",
       "</table>\n",
       "</div>"
      ],
      "text/plain": [
       "                                         customer_ID  target\n",
       "0  0000099d6bd597052cdcda90ffabf56573fe9d7c79be5f...       0\n",
       "1  00000fd6641609c6ece5454664794f0340ad84dddce9a2...       0\n",
       "2  00001b22f846c82c51f6e3958ccd81970162bae8b007e8...       0"
      ]
     },
     "execution_count": 19,
     "metadata": {},
     "output_type": "execute_result"
    }
   ],
   "source": [
    "data_trainlabels.head(3)"
   ]
  },
  {
   "cell_type": "code",
   "execution_count": 20,
   "metadata": {},
   "outputs": [
    {
     "data": {
      "text/html": [
       "<div>\n",
       "<style scoped>\n",
       "    .dataframe tbody tr th:only-of-type {\n",
       "        vertical-align: middle;\n",
       "    }\n",
       "\n",
       "    .dataframe tbody tr th {\n",
       "        vertical-align: top;\n",
       "    }\n",
       "\n",
       "    .dataframe thead th {\n",
       "        text-align: right;\n",
       "    }\n",
       "</style>\n",
       "<table border=\"1\" class=\"dataframe\">\n",
       "  <thead>\n",
       "    <tr style=\"text-align: right;\">\n",
       "      <th></th>\n",
       "      <th>customer_ID</th>\n",
       "      <th>P_2</th>\n",
       "      <th>D_39</th>\n",
       "      <th>B_1</th>\n",
       "      <th>B_2</th>\n",
       "      <th>R_1</th>\n",
       "      <th>S_3</th>\n",
       "      <th>D_41</th>\n",
       "      <th>B_3</th>\n",
       "      <th>D_42</th>\n",
       "      <th>...</th>\n",
       "      <th>D_145</th>\n",
       "      <th>B_30</th>\n",
       "      <th>B_38</th>\n",
       "      <th>D_114</th>\n",
       "      <th>D_117</th>\n",
       "      <th>D_120</th>\n",
       "      <th>D_126</th>\n",
       "      <th>D_63</th>\n",
       "      <th>D_64</th>\n",
       "      <th>D_68</th>\n",
       "    </tr>\n",
       "  </thead>\n",
       "  <tbody>\n",
       "    <tr>\n",
       "      <th>0</th>\n",
       "      <td>0000099d6bd597052cdcda90ffabf56573fe9d7c79be5f...</td>\n",
       "      <td>0.933824</td>\n",
       "      <td>0.010704</td>\n",
       "      <td>0.012007</td>\n",
       "      <td>1.005086</td>\n",
       "      <td>0.004509</td>\n",
       "      <td>0.113215</td>\n",
       "      <td>0.005021</td>\n",
       "      <td>0.006456</td>\n",
       "      <td>NaN</td>\n",
       "      <td>...</td>\n",
       "      <td>0.005814</td>\n",
       "      <td>0.0</td>\n",
       "      <td>2.0</td>\n",
       "      <td>1.0</td>\n",
       "      <td>4.0</td>\n",
       "      <td>0.0</td>\n",
       "      <td>1</td>\n",
       "      <td>CR</td>\n",
       "      <td>O</td>\n",
       "      <td>6.0</td>\n",
       "    </tr>\n",
       "    <tr>\n",
       "      <th>1</th>\n",
       "      <td>00000fd6641609c6ece5454664794f0340ad84dddce9a2...</td>\n",
       "      <td>0.899820</td>\n",
       "      <td>0.215205</td>\n",
       "      <td>0.025654</td>\n",
       "      <td>0.991083</td>\n",
       "      <td>0.006246</td>\n",
       "      <td>0.120578</td>\n",
       "      <td>0.004993</td>\n",
       "      <td>0.005663</td>\n",
       "      <td>NaN</td>\n",
       "      <td>...</td>\n",
       "      <td>0.004902</td>\n",
       "      <td>0.0</td>\n",
       "      <td>2.0</td>\n",
       "      <td>1.0</td>\n",
       "      <td>-1.0</td>\n",
       "      <td>0.0</td>\n",
       "      <td>1</td>\n",
       "      <td>CO</td>\n",
       "      <td>O</td>\n",
       "      <td>6.0</td>\n",
       "    </tr>\n",
       "    <tr>\n",
       "      <th>2</th>\n",
       "      <td>00001b22f846c82c51f6e3958ccd81970162bae8b007e8...</td>\n",
       "      <td>0.878454</td>\n",
       "      <td>0.004181</td>\n",
       "      <td>0.004386</td>\n",
       "      <td>0.815677</td>\n",
       "      <td>0.006621</td>\n",
       "      <td>NaN</td>\n",
       "      <td>0.006842</td>\n",
       "      <td>0.005493</td>\n",
       "      <td>NaN</td>\n",
       "      <td>...</td>\n",
       "      <td>0.004500</td>\n",
       "      <td>0.0</td>\n",
       "      <td>1.0</td>\n",
       "      <td>1.0</td>\n",
       "      <td>-1.0</td>\n",
       "      <td>0.0</td>\n",
       "      <td>1</td>\n",
       "      <td>CO</td>\n",
       "      <td>R</td>\n",
       "      <td>6.0</td>\n",
       "    </tr>\n",
       "  </tbody>\n",
       "</table>\n",
       "<p>3 rows × 170 columns</p>\n",
       "</div>"
      ],
      "text/plain": [
       "                                         customer_ID       P_2      D_39  \\\n",
       "0  0000099d6bd597052cdcda90ffabf56573fe9d7c79be5f...  0.933824  0.010704   \n",
       "1  00000fd6641609c6ece5454664794f0340ad84dddce9a2...  0.899820  0.215205   \n",
       "2  00001b22f846c82c51f6e3958ccd81970162bae8b007e8...  0.878454  0.004181   \n",
       "\n",
       "        B_1       B_2       R_1       S_3      D_41       B_3  D_42  ...  \\\n",
       "0  0.012007  1.005086  0.004509  0.113215  0.005021  0.006456   NaN  ...   \n",
       "1  0.025654  0.991083  0.006246  0.120578  0.004993  0.005663   NaN  ...   \n",
       "2  0.004386  0.815677  0.006621       NaN  0.006842  0.005493   NaN  ...   \n",
       "\n",
       "      D_145  B_30  B_38  D_114  D_117  D_120  D_126  D_63  D_64  D_68  \n",
       "0  0.005814   0.0   2.0    1.0    4.0    0.0      1    CR     O   6.0  \n",
       "1  0.004902   0.0   2.0    1.0   -1.0    0.0      1    CO     O   6.0  \n",
       "2  0.004500   0.0   1.0    1.0   -1.0    0.0      1    CO     R   6.0  \n",
       "\n",
       "[3 rows x 170 columns]"
      ]
     },
     "execution_count": 20,
     "metadata": {},
     "output_type": "execute_result"
    }
   ],
   "source": [
    "data.head(3)"
   ]
  },
  {
   "cell_type": "code",
   "execution_count": 21,
   "metadata": {},
   "outputs": [
    {
     "data": {
      "text/plain": [
       "458913"
      ]
     },
     "execution_count": 21,
     "metadata": {},
     "output_type": "execute_result"
    }
   ],
   "source": [
    "data.shape[0]"
   ]
  },
  {
   "cell_type": "code",
   "execution_count": 22,
   "metadata": {},
   "outputs": [
    {
     "data": {
      "text/html": [
       "<div>\n",
       "<style scoped>\n",
       "    .dataframe tbody tr th:only-of-type {\n",
       "        vertical-align: middle;\n",
       "    }\n",
       "\n",
       "    .dataframe tbody tr th {\n",
       "        vertical-align: top;\n",
       "    }\n",
       "\n",
       "    .dataframe thead th {\n",
       "        text-align: right;\n",
       "    }\n",
       "</style>\n",
       "<table border=\"1\" class=\"dataframe\">\n",
       "  <thead>\n",
       "    <tr style=\"text-align: right;\">\n",
       "      <th></th>\n",
       "      <th>customer_ID</th>\n",
       "      <th>target</th>\n",
       "      <th>P_2</th>\n",
       "      <th>D_39</th>\n",
       "      <th>B_1</th>\n",
       "      <th>B_2</th>\n",
       "      <th>R_1</th>\n",
       "      <th>S_3</th>\n",
       "      <th>D_41</th>\n",
       "      <th>B_3</th>\n",
       "      <th>...</th>\n",
       "      <th>D_145</th>\n",
       "      <th>B_30</th>\n",
       "      <th>B_38</th>\n",
       "      <th>D_114</th>\n",
       "      <th>D_117</th>\n",
       "      <th>D_120</th>\n",
       "      <th>D_126</th>\n",
       "      <th>D_63</th>\n",
       "      <th>D_64</th>\n",
       "      <th>D_68</th>\n",
       "    </tr>\n",
       "  </thead>\n",
       "  <tbody>\n",
       "    <tr>\n",
       "      <th>0</th>\n",
       "      <td>0000099d6bd597052cdcda90ffabf56573fe9d7c79be5f...</td>\n",
       "      <td>0</td>\n",
       "      <td>0.933824</td>\n",
       "      <td>0.010704</td>\n",
       "      <td>0.012007</td>\n",
       "      <td>1.005086</td>\n",
       "      <td>0.004509</td>\n",
       "      <td>0.113215</td>\n",
       "      <td>0.005021</td>\n",
       "      <td>0.006456</td>\n",
       "      <td>...</td>\n",
       "      <td>0.005814</td>\n",
       "      <td>0.0</td>\n",
       "      <td>2.0</td>\n",
       "      <td>1.0</td>\n",
       "      <td>4.0</td>\n",
       "      <td>0.0</td>\n",
       "      <td>1</td>\n",
       "      <td>CR</td>\n",
       "      <td>O</td>\n",
       "      <td>6.0</td>\n",
       "    </tr>\n",
       "    <tr>\n",
       "      <th>1</th>\n",
       "      <td>00000fd6641609c6ece5454664794f0340ad84dddce9a2...</td>\n",
       "      <td>0</td>\n",
       "      <td>0.899820</td>\n",
       "      <td>0.215205</td>\n",
       "      <td>0.025654</td>\n",
       "      <td>0.991083</td>\n",
       "      <td>0.006246</td>\n",
       "      <td>0.120578</td>\n",
       "      <td>0.004993</td>\n",
       "      <td>0.005663</td>\n",
       "      <td>...</td>\n",
       "      <td>0.004902</td>\n",
       "      <td>0.0</td>\n",
       "      <td>2.0</td>\n",
       "      <td>1.0</td>\n",
       "      <td>-1.0</td>\n",
       "      <td>0.0</td>\n",
       "      <td>1</td>\n",
       "      <td>CO</td>\n",
       "      <td>O</td>\n",
       "      <td>6.0</td>\n",
       "    </tr>\n",
       "    <tr>\n",
       "      <th>2</th>\n",
       "      <td>00001b22f846c82c51f6e3958ccd81970162bae8b007e8...</td>\n",
       "      <td>0</td>\n",
       "      <td>0.878454</td>\n",
       "      <td>0.004181</td>\n",
       "      <td>0.004386</td>\n",
       "      <td>0.815677</td>\n",
       "      <td>0.006621</td>\n",
       "      <td>NaN</td>\n",
       "      <td>0.006842</td>\n",
       "      <td>0.005493</td>\n",
       "      <td>...</td>\n",
       "      <td>0.004500</td>\n",
       "      <td>0.0</td>\n",
       "      <td>1.0</td>\n",
       "      <td>1.0</td>\n",
       "      <td>-1.0</td>\n",
       "      <td>0.0</td>\n",
       "      <td>1</td>\n",
       "      <td>CO</td>\n",
       "      <td>R</td>\n",
       "      <td>6.0</td>\n",
       "    </tr>\n",
       "  </tbody>\n",
       "</table>\n",
       "<p>3 rows × 171 columns</p>\n",
       "</div>"
      ],
      "text/plain": [
       "                                         customer_ID  target       P_2  \\\n",
       "0  0000099d6bd597052cdcda90ffabf56573fe9d7c79be5f...       0  0.933824   \n",
       "1  00000fd6641609c6ece5454664794f0340ad84dddce9a2...       0  0.899820   \n",
       "2  00001b22f846c82c51f6e3958ccd81970162bae8b007e8...       0  0.878454   \n",
       "\n",
       "       D_39       B_1       B_2       R_1       S_3      D_41       B_3  ...  \\\n",
       "0  0.010704  0.012007  1.005086  0.004509  0.113215  0.005021  0.006456  ...   \n",
       "1  0.215205  0.025654  0.991083  0.006246  0.120578  0.004993  0.005663  ...   \n",
       "2  0.004181  0.004386  0.815677  0.006621       NaN  0.006842  0.005493  ...   \n",
       "\n",
       "      D_145  B_30  B_38  D_114  D_117  D_120  D_126  D_63  D_64  D_68  \n",
       "0  0.005814   0.0   2.0    1.0    4.0    0.0      1    CR     O   6.0  \n",
       "1  0.004902   0.0   2.0    1.0   -1.0    0.0      1    CO     O   6.0  \n",
       "2  0.004500   0.0   1.0    1.0   -1.0    0.0      1    CO     R   6.0  \n",
       "\n",
       "[3 rows x 171 columns]"
      ]
     },
     "execution_count": 22,
     "metadata": {},
     "output_type": "execute_result"
    }
   ],
   "source": [
    "#Unir target variable al dataset\n",
    "data_full=data_trainlabels.merge(data,how='inner',left_on='customer_ID', right_on='customer_ID')\n",
    "data_full.head(3)"
   ]
  },
  {
   "cell_type": "markdown",
   "metadata": {},
   "source": [
    "### Preprocesamiento"
   ]
  },
  {
   "cell_type": "markdown",
   "metadata": {},
   "source": [
    "Categoricas que hay que usar:B_30, B_38, D_114, D_117, D_120, D_126, D_63, D_64, D_68"
   ]
  },
  {
   "cell_type": "code",
   "execution_count": 23,
   "metadata": {},
   "outputs": [],
   "source": [
    "ohe = OneHotEncoder()"
   ]
  },
  {
   "cell_type": "code",
   "execution_count": 38,
   "metadata": {},
   "outputs": [
    {
     "data": {
      "text/plain": [
       "array([[1., 0., 0., ..., 0., 1., 0.],\n",
       "       [1., 0., 0., ..., 0., 1., 0.],\n",
       "       [1., 0., 0., ..., 0., 1., 0.],\n",
       "       ...,\n",
       "       [1., 0., 0., ..., 1., 0., 0.],\n",
       "       [1., 0., 0., ..., 0., 0., 0.],\n",
       "       [1., 0., 0., ..., 1., 0., 0.]])"
      ]
     },
     "execution_count": 38,
     "metadata": {},
     "output_type": "execute_result"
    }
   ],
   "source": [
    "# Le pasamos las variables que queremos cambiar:\n",
    "database_aux=data_full[['B_30', 'B_38', 'D_114', 'D_117', 'D_120', 'D_126', 'D_63', 'D_64', 'D_68']]\n",
    "database_aux\n",
    "X_ohe =ohe.fit(database_aux)\n",
    "X_ohe_t=X_ohe.transform(database_aux)\n",
    "X_ohe_t.toarray()"
   ]
  },
  {
   "cell_type": "code",
   "execution_count": 39,
   "metadata": {},
   "outputs": [],
   "source": [
    "#database_aux.isnull().any()\n"
   ]
  },
  {
   "cell_type": "code",
   "execution_count": 40,
   "metadata": {},
   "outputs": [
    {
     "data": {
      "text/plain": [
       "B_30     object\n",
       "B_38     object\n",
       "D_114    object\n",
       "D_117    object\n",
       "D_120    object\n",
       "D_126    object\n",
       "D_63     object\n",
       "D_64     object\n",
       "D_68     object\n",
       "dtype: object"
      ]
     },
     "execution_count": 40,
     "metadata": {},
     "output_type": "execute_result"
    }
   ],
   "source": [
    "database_aux.dtypes"
   ]
  },
  {
   "cell_type": "code",
   "execution_count": 41,
   "metadata": {},
   "outputs": [
    {
     "data": {
      "text/plain": [
       "array(['x0_0.0', 'x0_1.0', 'x0_2.0', 'x0_nan', 'x1_1.0', 'x1_2.0',\n",
       "       'x1_3.0', 'x1_4.0', 'x1_5.0', 'x1_6.0', 'x1_7.0', 'x1_nan',\n",
       "       'x2_0.0', 'x2_1.0', 'x2_nan', 'x3_-1.0', 'x3_1.0', 'x3_2.0',\n",
       "       'x3_3.0', 'x3_4.0', 'x3_5.0', 'x3_6.0', 'x3_nan', 'x4_0.0',\n",
       "       'x4_1.0', 'x4_nan', 'x5_0', 'x5_1', 'x6_CL', 'x6_CO', 'x6_CR',\n",
       "       'x6_XL', 'x6_XM', 'x6_XZ', 'x7_O', 'x7_R', 'x7_U', 'x7_nan',\n",
       "       'x8_1.0', 'x8_2.0', 'x8_3.0', 'x8_4.0', 'x8_5.0', 'x8_6.0',\n",
       "       'x8_nan'], dtype=object)"
      ]
     },
     "execution_count": 41,
     "metadata": {},
     "output_type": "execute_result"
    }
   ],
   "source": [
    "X_ohe.get_feature_names()"
   ]
  },
  {
   "cell_type": "code",
   "execution_count": 42,
   "metadata": {},
   "outputs": [
    {
     "name": "stdout",
     "output_type": "stream",
     "text": [
      "B_30= ['0.0' '1.0' '2.0' 'nan']\n",
      "B_38= ['2.0' '1.0' '3.0' '7.0' '5.0' '6.0' '4.0' 'nan']\n",
      "D_114= ['1.0' '0.0' 'nan']\n",
      "D_117= ['4.0' '-1.0' '6.0' '1.0' '2.0' '5.0' '3.0' 'nan']\n",
      "D_120= ['0.0' '1.0' 'nan']\n",
      "D_126= ['1' '0']\n",
      "D_63= ['CR' 'CO' 'CL' 'XL' 'XZ' 'XM']\n",
      "D_64= ['O' 'R' 'U' 'nan']\n",
      "D_68= ['6.0' '3.0' '5.0' '4.0' '2.0' '1.0' 'nan']\n"
     ]
    }
   ],
   "source": [
    "print(f\"B_30= {data['B_30'].unique()}\")\n",
    "print(f\"B_38= {data['B_38'].unique()}\")\n",
    "print(f\"D_114= {data['D_114'].unique()}\")\n",
    "print(f\"D_117= {data['D_117'].unique()}\")\n",
    "print(f\"D_120= {data['D_120'].unique()}\")\n",
    "print(f\"D_126= {data['D_126'].unique()}\")\n",
    "print(f\"D_63= {data['D_63'].unique()}\")\n",
    "print(f\"D_64= {data['D_64'].unique()}\")\n",
    "print(f\"D_68= {data['D_68'].unique()}\")"
   ]
  },
  {
   "cell_type": "code",
   "execution_count": 43,
   "metadata": {},
   "outputs": [
    {
     "data": {
      "text/html": [
       "<div>\n",
       "<style scoped>\n",
       "    .dataframe tbody tr th:only-of-type {\n",
       "        vertical-align: middle;\n",
       "    }\n",
       "\n",
       "    .dataframe tbody tr th {\n",
       "        vertical-align: top;\n",
       "    }\n",
       "\n",
       "    .dataframe thead th {\n",
       "        text-align: right;\n",
       "    }\n",
       "</style>\n",
       "<table border=\"1\" class=\"dataframe\">\n",
       "  <thead>\n",
       "    <tr style=\"text-align: right;\">\n",
       "      <th></th>\n",
       "      <th>x0_0.0</th>\n",
       "      <th>x0_1.0</th>\n",
       "      <th>x0_2.0</th>\n",
       "      <th>x0_nan</th>\n",
       "      <th>x1_1.0</th>\n",
       "      <th>x1_2.0</th>\n",
       "      <th>x1_3.0</th>\n",
       "      <th>x1_4.0</th>\n",
       "      <th>x1_5.0</th>\n",
       "      <th>x1_6.0</th>\n",
       "      <th>...</th>\n",
       "      <th>x7_R</th>\n",
       "      <th>x7_U</th>\n",
       "      <th>x7_nan</th>\n",
       "      <th>x8_1.0</th>\n",
       "      <th>x8_2.0</th>\n",
       "      <th>x8_3.0</th>\n",
       "      <th>x8_4.0</th>\n",
       "      <th>x8_5.0</th>\n",
       "      <th>x8_6.0</th>\n",
       "      <th>x8_nan</th>\n",
       "    </tr>\n",
       "  </thead>\n",
       "  <tbody>\n",
       "    <tr>\n",
       "      <th>0</th>\n",
       "      <td>1.0</td>\n",
       "      <td>0.0</td>\n",
       "      <td>0.0</td>\n",
       "      <td>0.0</td>\n",
       "      <td>0.0</td>\n",
       "      <td>1.0</td>\n",
       "      <td>0.0</td>\n",
       "      <td>0.0</td>\n",
       "      <td>0.0</td>\n",
       "      <td>0.0</td>\n",
       "      <td>...</td>\n",
       "      <td>0.0</td>\n",
       "      <td>0.0</td>\n",
       "      <td>0.0</td>\n",
       "      <td>0.0</td>\n",
       "      <td>0.0</td>\n",
       "      <td>0.0</td>\n",
       "      <td>0.0</td>\n",
       "      <td>0.0</td>\n",
       "      <td>1.0</td>\n",
       "      <td>0.0</td>\n",
       "    </tr>\n",
       "    <tr>\n",
       "      <th>1</th>\n",
       "      <td>1.0</td>\n",
       "      <td>0.0</td>\n",
       "      <td>0.0</td>\n",
       "      <td>0.0</td>\n",
       "      <td>0.0</td>\n",
       "      <td>1.0</td>\n",
       "      <td>0.0</td>\n",
       "      <td>0.0</td>\n",
       "      <td>0.0</td>\n",
       "      <td>0.0</td>\n",
       "      <td>...</td>\n",
       "      <td>0.0</td>\n",
       "      <td>0.0</td>\n",
       "      <td>0.0</td>\n",
       "      <td>0.0</td>\n",
       "      <td>0.0</td>\n",
       "      <td>0.0</td>\n",
       "      <td>0.0</td>\n",
       "      <td>0.0</td>\n",
       "      <td>1.0</td>\n",
       "      <td>0.0</td>\n",
       "    </tr>\n",
       "    <tr>\n",
       "      <th>2</th>\n",
       "      <td>1.0</td>\n",
       "      <td>0.0</td>\n",
       "      <td>0.0</td>\n",
       "      <td>0.0</td>\n",
       "      <td>1.0</td>\n",
       "      <td>0.0</td>\n",
       "      <td>0.0</td>\n",
       "      <td>0.0</td>\n",
       "      <td>0.0</td>\n",
       "      <td>0.0</td>\n",
       "      <td>...</td>\n",
       "      <td>1.0</td>\n",
       "      <td>0.0</td>\n",
       "      <td>0.0</td>\n",
       "      <td>0.0</td>\n",
       "      <td>0.0</td>\n",
       "      <td>0.0</td>\n",
       "      <td>0.0</td>\n",
       "      <td>0.0</td>\n",
       "      <td>1.0</td>\n",
       "      <td>0.0</td>\n",
       "    </tr>\n",
       "    <tr>\n",
       "      <th>3</th>\n",
       "      <td>1.0</td>\n",
       "      <td>0.0</td>\n",
       "      <td>0.0</td>\n",
       "      <td>0.0</td>\n",
       "      <td>0.0</td>\n",
       "      <td>1.0</td>\n",
       "      <td>0.0</td>\n",
       "      <td>0.0</td>\n",
       "      <td>0.0</td>\n",
       "      <td>0.0</td>\n",
       "      <td>...</td>\n",
       "      <td>0.0</td>\n",
       "      <td>0.0</td>\n",
       "      <td>0.0</td>\n",
       "      <td>0.0</td>\n",
       "      <td>0.0</td>\n",
       "      <td>1.0</td>\n",
       "      <td>0.0</td>\n",
       "      <td>0.0</td>\n",
       "      <td>0.0</td>\n",
       "      <td>0.0</td>\n",
       "    </tr>\n",
       "    <tr>\n",
       "      <th>4</th>\n",
       "      <td>1.0</td>\n",
       "      <td>0.0</td>\n",
       "      <td>0.0</td>\n",
       "      <td>0.0</td>\n",
       "      <td>1.0</td>\n",
       "      <td>0.0</td>\n",
       "      <td>0.0</td>\n",
       "      <td>0.0</td>\n",
       "      <td>0.0</td>\n",
       "      <td>0.0</td>\n",
       "      <td>...</td>\n",
       "      <td>0.0</td>\n",
       "      <td>0.0</td>\n",
       "      <td>0.0</td>\n",
       "      <td>0.0</td>\n",
       "      <td>0.0</td>\n",
       "      <td>0.0</td>\n",
       "      <td>0.0</td>\n",
       "      <td>0.0</td>\n",
       "      <td>1.0</td>\n",
       "      <td>0.0</td>\n",
       "    </tr>\n",
       "    <tr>\n",
       "      <th>...</th>\n",
       "      <td>...</td>\n",
       "      <td>...</td>\n",
       "      <td>...</td>\n",
       "      <td>...</td>\n",
       "      <td>...</td>\n",
       "      <td>...</td>\n",
       "      <td>...</td>\n",
       "      <td>...</td>\n",
       "      <td>...</td>\n",
       "      <td>...</td>\n",
       "      <td>...</td>\n",
       "      <td>...</td>\n",
       "      <td>...</td>\n",
       "      <td>...</td>\n",
       "      <td>...</td>\n",
       "      <td>...</td>\n",
       "      <td>...</td>\n",
       "      <td>...</td>\n",
       "      <td>...</td>\n",
       "      <td>...</td>\n",
       "      <td>...</td>\n",
       "    </tr>\n",
       "    <tr>\n",
       "      <th>458908</th>\n",
       "      <td>1.0</td>\n",
       "      <td>0.0</td>\n",
       "      <td>0.0</td>\n",
       "      <td>0.0</td>\n",
       "      <td>0.0</td>\n",
       "      <td>1.0</td>\n",
       "      <td>0.0</td>\n",
       "      <td>0.0</td>\n",
       "      <td>0.0</td>\n",
       "      <td>0.0</td>\n",
       "      <td>...</td>\n",
       "      <td>0.0</td>\n",
       "      <td>1.0</td>\n",
       "      <td>0.0</td>\n",
       "      <td>0.0</td>\n",
       "      <td>0.0</td>\n",
       "      <td>0.0</td>\n",
       "      <td>0.0</td>\n",
       "      <td>0.0</td>\n",
       "      <td>1.0</td>\n",
       "      <td>0.0</td>\n",
       "    </tr>\n",
       "    <tr>\n",
       "      <th>458909</th>\n",
       "      <td>1.0</td>\n",
       "      <td>0.0</td>\n",
       "      <td>0.0</td>\n",
       "      <td>0.0</td>\n",
       "      <td>0.0</td>\n",
       "      <td>0.0</td>\n",
       "      <td>0.0</td>\n",
       "      <td>0.0</td>\n",
       "      <td>0.0</td>\n",
       "      <td>0.0</td>\n",
       "      <td>...</td>\n",
       "      <td>1.0</td>\n",
       "      <td>0.0</td>\n",
       "      <td>0.0</td>\n",
       "      <td>0.0</td>\n",
       "      <td>0.0</td>\n",
       "      <td>0.0</td>\n",
       "      <td>0.0</td>\n",
       "      <td>0.0</td>\n",
       "      <td>1.0</td>\n",
       "      <td>0.0</td>\n",
       "    </tr>\n",
       "    <tr>\n",
       "      <th>458910</th>\n",
       "      <td>1.0</td>\n",
       "      <td>0.0</td>\n",
       "      <td>0.0</td>\n",
       "      <td>0.0</td>\n",
       "      <td>0.0</td>\n",
       "      <td>0.0</td>\n",
       "      <td>1.0</td>\n",
       "      <td>0.0</td>\n",
       "      <td>0.0</td>\n",
       "      <td>0.0</td>\n",
       "      <td>...</td>\n",
       "      <td>0.0</td>\n",
       "      <td>1.0</td>\n",
       "      <td>0.0</td>\n",
       "      <td>0.0</td>\n",
       "      <td>0.0</td>\n",
       "      <td>0.0</td>\n",
       "      <td>0.0</td>\n",
       "      <td>1.0</td>\n",
       "      <td>0.0</td>\n",
       "      <td>0.0</td>\n",
       "    </tr>\n",
       "    <tr>\n",
       "      <th>458911</th>\n",
       "      <td>1.0</td>\n",
       "      <td>0.0</td>\n",
       "      <td>0.0</td>\n",
       "      <td>0.0</td>\n",
       "      <td>0.0</td>\n",
       "      <td>0.0</td>\n",
       "      <td>1.0</td>\n",
       "      <td>0.0</td>\n",
       "      <td>0.0</td>\n",
       "      <td>0.0</td>\n",
       "      <td>...</td>\n",
       "      <td>0.0</td>\n",
       "      <td>1.0</td>\n",
       "      <td>0.0</td>\n",
       "      <td>0.0</td>\n",
       "      <td>0.0</td>\n",
       "      <td>1.0</td>\n",
       "      <td>0.0</td>\n",
       "      <td>0.0</td>\n",
       "      <td>0.0</td>\n",
       "      <td>0.0</td>\n",
       "    </tr>\n",
       "    <tr>\n",
       "      <th>458912</th>\n",
       "      <td>1.0</td>\n",
       "      <td>0.0</td>\n",
       "      <td>0.0</td>\n",
       "      <td>0.0</td>\n",
       "      <td>0.0</td>\n",
       "      <td>0.0</td>\n",
       "      <td>1.0</td>\n",
       "      <td>0.0</td>\n",
       "      <td>0.0</td>\n",
       "      <td>0.0</td>\n",
       "      <td>...</td>\n",
       "      <td>0.0</td>\n",
       "      <td>0.0</td>\n",
       "      <td>0.0</td>\n",
       "      <td>0.0</td>\n",
       "      <td>0.0</td>\n",
       "      <td>0.0</td>\n",
       "      <td>0.0</td>\n",
       "      <td>1.0</td>\n",
       "      <td>0.0</td>\n",
       "      <td>0.0</td>\n",
       "    </tr>\n",
       "  </tbody>\n",
       "</table>\n",
       "<p>458913 rows × 45 columns</p>\n",
       "</div>"
      ],
      "text/plain": [
       "        x0_0.0  x0_1.0  x0_2.0  x0_nan  x1_1.0  x1_2.0  x1_3.0  x1_4.0  \\\n",
       "0          1.0     0.0     0.0     0.0     0.0     1.0     0.0     0.0   \n",
       "1          1.0     0.0     0.0     0.0     0.0     1.0     0.0     0.0   \n",
       "2          1.0     0.0     0.0     0.0     1.0     0.0     0.0     0.0   \n",
       "3          1.0     0.0     0.0     0.0     0.0     1.0     0.0     0.0   \n",
       "4          1.0     0.0     0.0     0.0     1.0     0.0     0.0     0.0   \n",
       "...        ...     ...     ...     ...     ...     ...     ...     ...   \n",
       "458908     1.0     0.0     0.0     0.0     0.0     1.0     0.0     0.0   \n",
       "458909     1.0     0.0     0.0     0.0     0.0     0.0     0.0     0.0   \n",
       "458910     1.0     0.0     0.0     0.0     0.0     0.0     1.0     0.0   \n",
       "458911     1.0     0.0     0.0     0.0     0.0     0.0     1.0     0.0   \n",
       "458912     1.0     0.0     0.0     0.0     0.0     0.0     1.0     0.0   \n",
       "\n",
       "        x1_5.0  x1_6.0  ...  x7_R  x7_U  x7_nan  x8_1.0  x8_2.0  x8_3.0  \\\n",
       "0          0.0     0.0  ...   0.0   0.0     0.0     0.0     0.0     0.0   \n",
       "1          0.0     0.0  ...   0.0   0.0     0.0     0.0     0.0     0.0   \n",
       "2          0.0     0.0  ...   1.0   0.0     0.0     0.0     0.0     0.0   \n",
       "3          0.0     0.0  ...   0.0   0.0     0.0     0.0     0.0     1.0   \n",
       "4          0.0     0.0  ...   0.0   0.0     0.0     0.0     0.0     0.0   \n",
       "...        ...     ...  ...   ...   ...     ...     ...     ...     ...   \n",
       "458908     0.0     0.0  ...   0.0   1.0     0.0     0.0     0.0     0.0   \n",
       "458909     0.0     0.0  ...   1.0   0.0     0.0     0.0     0.0     0.0   \n",
       "458910     0.0     0.0  ...   0.0   1.0     0.0     0.0     0.0     0.0   \n",
       "458911     0.0     0.0  ...   0.0   1.0     0.0     0.0     0.0     1.0   \n",
       "458912     0.0     0.0  ...   0.0   0.0     0.0     0.0     0.0     0.0   \n",
       "\n",
       "        x8_4.0  x8_5.0  x8_6.0  x8_nan  \n",
       "0          0.0     0.0     1.0     0.0  \n",
       "1          0.0     0.0     1.0     0.0  \n",
       "2          0.0     0.0     1.0     0.0  \n",
       "3          0.0     0.0     0.0     0.0  \n",
       "4          0.0     0.0     1.0     0.0  \n",
       "...        ...     ...     ...     ...  \n",
       "458908     0.0     0.0     1.0     0.0  \n",
       "458909     0.0     0.0     1.0     0.0  \n",
       "458910     0.0     1.0     0.0     0.0  \n",
       "458911     0.0     0.0     0.0     0.0  \n",
       "458912     0.0     1.0     0.0     0.0  \n",
       "\n",
       "[458913 rows x 45 columns]"
      ]
     },
     "execution_count": 43,
     "metadata": {},
     "output_type": "execute_result"
    }
   ],
   "source": [
    "df_ohe = pd.DataFrame(list(X_ohe_t.toarray()), columns=['x0_0.0', 'x0_1.0', 'x0_2.0', 'x0_nan', 'x1_1.0', 'x1_2.0',\n",
    "       'x1_3.0', 'x1_4.0', 'x1_5.0', 'x1_6.0', 'x1_7.0', 'x1_nan',\n",
    "       'x2_0.0', 'x2_1.0', 'x2_nan', 'x3_-1.0', 'x3_1.0', 'x3_2.0',\n",
    "       'x3_3.0', 'x3_4.0', 'x3_5.0', 'x3_6.0', 'x3_nan', 'x4_0.0',\n",
    "       'x4_1.0', 'x4_nan', 'x5_0', 'x5_1', 'x6_CL', 'x6_CO', 'x6_CR',\n",
    "       'x6_XL', 'x6_XM', 'x6_XZ', 'x7_O', 'x7_R', 'x7_U', 'x7_nan',\n",
    "       'x8_1.0', 'x8_2.0', 'x8_3.0', 'x8_4.0', 'x8_5.0', 'x8_6.0',\n",
    "       'x8_nan'])\n",
    "\n",
    "df_ohe"
   ]
  },
  {
   "cell_type": "code",
   "execution_count": 44,
   "metadata": {},
   "outputs": [
    {
     "data": {
      "text/plain": [
       "x0_0.0     float64\n",
       "x0_1.0     float64\n",
       "x0_2.0     float64\n",
       "x0_nan     float64\n",
       "x1_1.0     float64\n",
       "x1_2.0     float64\n",
       "x1_3.0     float64\n",
       "x1_4.0     float64\n",
       "x1_5.0     float64\n",
       "x1_6.0     float64\n",
       "x1_7.0     float64\n",
       "x1_nan     float64\n",
       "x2_0.0     float64\n",
       "x2_1.0     float64\n",
       "x2_nan     float64\n",
       "x3_-1.0    float64\n",
       "x3_1.0     float64\n",
       "x3_2.0     float64\n",
       "x3_3.0     float64\n",
       "x3_4.0     float64\n",
       "x3_5.0     float64\n",
       "x3_6.0     float64\n",
       "x3_nan     float64\n",
       "x4_0.0     float64\n",
       "x4_1.0     float64\n",
       "x4_nan     float64\n",
       "x5_0       float64\n",
       "x5_1       float64\n",
       "x6_CL      float64\n",
       "x6_CO      float64\n",
       "x6_CR      float64\n",
       "x6_XL      float64\n",
       "x6_XM      float64\n",
       "x6_XZ      float64\n",
       "x7_O       float64\n",
       "x7_R       float64\n",
       "x7_U       float64\n",
       "x7_nan     float64\n",
       "x8_1.0     float64\n",
       "x8_2.0     float64\n",
       "x8_3.0     float64\n",
       "x8_4.0     float64\n",
       "x8_5.0     float64\n",
       "x8_6.0     float64\n",
       "x8_nan     float64\n",
       "dtype: object"
      ]
     },
     "execution_count": 44,
     "metadata": {},
     "output_type": "execute_result"
    }
   ],
   "source": [
    "df_ohe.dtypes"
   ]
  },
  {
   "cell_type": "code",
   "execution_count": 45,
   "metadata": {},
   "outputs": [
    {
     "data": {
      "text/html": [
       "<div>\n",
       "<style scoped>\n",
       "    .dataframe tbody tr th:only-of-type {\n",
       "        vertical-align: middle;\n",
       "    }\n",
       "\n",
       "    .dataframe tbody tr th {\n",
       "        vertical-align: top;\n",
       "    }\n",
       "\n",
       "    .dataframe thead th {\n",
       "        text-align: right;\n",
       "    }\n",
       "</style>\n",
       "<table border=\"1\" class=\"dataframe\">\n",
       "  <thead>\n",
       "    <tr style=\"text-align: right;\">\n",
       "      <th></th>\n",
       "      <th>x0_0.0</th>\n",
       "      <th>x0_1.0</th>\n",
       "      <th>x0_2.0</th>\n",
       "      <th>x0_nan</th>\n",
       "      <th>x1_1.0</th>\n",
       "      <th>x1_2.0</th>\n",
       "      <th>x1_3.0</th>\n",
       "      <th>x1_4.0</th>\n",
       "      <th>x1_5.0</th>\n",
       "      <th>x1_6.0</th>\n",
       "      <th>...</th>\n",
       "      <th>D_131</th>\n",
       "      <th>D_133</th>\n",
       "      <th>R_28</th>\n",
       "      <th>D_139</th>\n",
       "      <th>D_140</th>\n",
       "      <th>D_141</th>\n",
       "      <th>D_142</th>\n",
       "      <th>D_143</th>\n",
       "      <th>D_144</th>\n",
       "      <th>D_145</th>\n",
       "    </tr>\n",
       "  </thead>\n",
       "  <tbody>\n",
       "    <tr>\n",
       "      <th>0</th>\n",
       "      <td>1.0</td>\n",
       "      <td>0.0</td>\n",
       "      <td>0.0</td>\n",
       "      <td>0.0</td>\n",
       "      <td>0.0</td>\n",
       "      <td>1.0</td>\n",
       "      <td>0.0</td>\n",
       "      <td>0.0</td>\n",
       "      <td>0.0</td>\n",
       "      <td>0.0</td>\n",
       "      <td>...</td>\n",
       "      <td>0.005446</td>\n",
       "      <td>0.004760</td>\n",
       "      <td>0.004089</td>\n",
       "      <td>0.003664</td>\n",
       "      <td>0.005343</td>\n",
       "      <td>0.005178</td>\n",
       "      <td>NaN</td>\n",
       "      <td>0.005066</td>\n",
       "      <td>0.005283</td>\n",
       "      <td>0.005814</td>\n",
       "    </tr>\n",
       "    <tr>\n",
       "      <th>1</th>\n",
       "      <td>1.0</td>\n",
       "      <td>0.0</td>\n",
       "      <td>0.0</td>\n",
       "      <td>0.0</td>\n",
       "      <td>0.0</td>\n",
       "      <td>1.0</td>\n",
       "      <td>0.0</td>\n",
       "      <td>0.0</td>\n",
       "      <td>0.0</td>\n",
       "      <td>0.0</td>\n",
       "      <td>...</td>\n",
       "      <td>0.004214</td>\n",
       "      <td>0.004519</td>\n",
       "      <td>0.005405</td>\n",
       "      <td>0.004906</td>\n",
       "      <td>0.006271</td>\n",
       "      <td>0.006007</td>\n",
       "      <td>NaN</td>\n",
       "      <td>0.004824</td>\n",
       "      <td>0.004218</td>\n",
       "      <td>0.004902</td>\n",
       "    </tr>\n",
       "    <tr>\n",
       "      <th>2</th>\n",
       "      <td>1.0</td>\n",
       "      <td>0.0</td>\n",
       "      <td>0.0</td>\n",
       "      <td>0.0</td>\n",
       "      <td>1.0</td>\n",
       "      <td>0.0</td>\n",
       "      <td>0.0</td>\n",
       "      <td>0.0</td>\n",
       "      <td>0.0</td>\n",
       "      <td>0.0</td>\n",
       "      <td>...</td>\n",
       "      <td>0.004647</td>\n",
       "      <td>0.006781</td>\n",
       "      <td>0.004624</td>\n",
       "      <td>0.006006</td>\n",
       "      <td>0.004675</td>\n",
       "      <td>0.003607</td>\n",
       "      <td>NaN</td>\n",
       "      <td>0.004288</td>\n",
       "      <td>0.005113</td>\n",
       "      <td>0.004500</td>\n",
       "    </tr>\n",
       "    <tr>\n",
       "      <th>3</th>\n",
       "      <td>1.0</td>\n",
       "      <td>0.0</td>\n",
       "      <td>0.0</td>\n",
       "      <td>0.0</td>\n",
       "      <td>0.0</td>\n",
       "      <td>1.0</td>\n",
       "      <td>0.0</td>\n",
       "      <td>0.0</td>\n",
       "      <td>0.0</td>\n",
       "      <td>0.0</td>\n",
       "      <td>...</td>\n",
       "      <td>0.004463</td>\n",
       "      <td>0.003369</td>\n",
       "      <td>0.005615</td>\n",
       "      <td>0.005775</td>\n",
       "      <td>0.005777</td>\n",
       "      <td>0.004181</td>\n",
       "      <td>NaN</td>\n",
       "      <td>0.006742</td>\n",
       "      <td>0.004768</td>\n",
       "      <td>0.005236</td>\n",
       "    </tr>\n",
       "    <tr>\n",
       "      <th>4</th>\n",
       "      <td>1.0</td>\n",
       "      <td>0.0</td>\n",
       "      <td>0.0</td>\n",
       "      <td>0.0</td>\n",
       "      <td>1.0</td>\n",
       "      <td>0.0</td>\n",
       "      <td>0.0</td>\n",
       "      <td>0.0</td>\n",
       "      <td>0.0</td>\n",
       "      <td>0.0</td>\n",
       "      <td>...</td>\n",
       "      <td>0.005097</td>\n",
       "      <td>0.004744</td>\n",
       "      <td>0.004297</td>\n",
       "      <td>0.003853</td>\n",
       "      <td>0.004818</td>\n",
       "      <td>0.004818</td>\n",
       "      <td>NaN</td>\n",
       "      <td>0.004852</td>\n",
       "      <td>0.004380</td>\n",
       "      <td>0.004219</td>\n",
       "    </tr>\n",
       "    <tr>\n",
       "      <th>...</th>\n",
       "      <td>...</td>\n",
       "      <td>...</td>\n",
       "      <td>...</td>\n",
       "      <td>...</td>\n",
       "      <td>...</td>\n",
       "      <td>...</td>\n",
       "      <td>...</td>\n",
       "      <td>...</td>\n",
       "      <td>...</td>\n",
       "      <td>...</td>\n",
       "      <td>...</td>\n",
       "      <td>...</td>\n",
       "      <td>...</td>\n",
       "      <td>...</td>\n",
       "      <td>...</td>\n",
       "      <td>...</td>\n",
       "      <td>...</td>\n",
       "      <td>...</td>\n",
       "      <td>...</td>\n",
       "      <td>...</td>\n",
       "      <td>...</td>\n",
       "    </tr>\n",
       "    <tr>\n",
       "      <th>458908</th>\n",
       "      <td>1.0</td>\n",
       "      <td>0.0</td>\n",
       "      <td>0.0</td>\n",
       "      <td>0.0</td>\n",
       "      <td>0.0</td>\n",
       "      <td>1.0</td>\n",
       "      <td>0.0</td>\n",
       "      <td>0.0</td>\n",
       "      <td>0.0</td>\n",
       "      <td>0.0</td>\n",
       "      <td>...</td>\n",
       "      <td>0.004202</td>\n",
       "      <td>0.004180</td>\n",
       "      <td>0.005352</td>\n",
       "      <td>0.007432</td>\n",
       "      <td>0.005698</td>\n",
       "      <td>0.004995</td>\n",
       "      <td>NaN</td>\n",
       "      <td>0.003367</td>\n",
       "      <td>0.005605</td>\n",
       "      <td>0.005315</td>\n",
       "    </tr>\n",
       "    <tr>\n",
       "      <th>458909</th>\n",
       "      <td>1.0</td>\n",
       "      <td>0.0</td>\n",
       "      <td>0.0</td>\n",
       "      <td>0.0</td>\n",
       "      <td>0.0</td>\n",
       "      <td>0.0</td>\n",
       "      <td>0.0</td>\n",
       "      <td>0.0</td>\n",
       "      <td>0.0</td>\n",
       "      <td>0.0</td>\n",
       "      <td>...</td>\n",
       "      <td>0.997758</td>\n",
       "      <td>1.014297</td>\n",
       "      <td>0.006061</td>\n",
       "      <td>0.005071</td>\n",
       "      <td>0.003799</td>\n",
       "      <td>0.005458</td>\n",
       "      <td>NaN</td>\n",
       "      <td>0.004469</td>\n",
       "      <td>0.006052</td>\n",
       "      <td>0.005622</td>\n",
       "    </tr>\n",
       "    <tr>\n",
       "      <th>458910</th>\n",
       "      <td>1.0</td>\n",
       "      <td>0.0</td>\n",
       "      <td>0.0</td>\n",
       "      <td>0.0</td>\n",
       "      <td>0.0</td>\n",
       "      <td>0.0</td>\n",
       "      <td>1.0</td>\n",
       "      <td>0.0</td>\n",
       "      <td>0.0</td>\n",
       "      <td>0.0</td>\n",
       "      <td>...</td>\n",
       "      <td>0.005338</td>\n",
       "      <td>0.004848</td>\n",
       "      <td>0.005097</td>\n",
       "      <td>0.004716</td>\n",
       "      <td>0.003858</td>\n",
       "      <td>0.004838</td>\n",
       "      <td>NaN</td>\n",
       "      <td>0.006621</td>\n",
       "      <td>0.004860</td>\n",
       "      <td>0.003917</td>\n",
       "    </tr>\n",
       "    <tr>\n",
       "      <th>458911</th>\n",
       "      <td>1.0</td>\n",
       "      <td>0.0</td>\n",
       "      <td>0.0</td>\n",
       "      <td>0.0</td>\n",
       "      <td>0.0</td>\n",
       "      <td>0.0</td>\n",
       "      <td>1.0</td>\n",
       "      <td>0.0</td>\n",
       "      <td>0.0</td>\n",
       "      <td>0.0</td>\n",
       "      <td>...</td>\n",
       "      <td>0.004384</td>\n",
       "      <td>0.005217</td>\n",
       "      <td>0.004997</td>\n",
       "      <td>1.005970</td>\n",
       "      <td>0.006763</td>\n",
       "      <td>0.940234</td>\n",
       "      <td>0.417953</td>\n",
       "      <td>1.004619</td>\n",
       "      <td>0.005287</td>\n",
       "      <td>0.186632</td>\n",
       "    </tr>\n",
       "    <tr>\n",
       "      <th>458912</th>\n",
       "      <td>1.0</td>\n",
       "      <td>0.0</td>\n",
       "      <td>0.0</td>\n",
       "      <td>0.0</td>\n",
       "      <td>0.0</td>\n",
       "      <td>0.0</td>\n",
       "      <td>1.0</td>\n",
       "      <td>0.0</td>\n",
       "      <td>0.0</td>\n",
       "      <td>0.0</td>\n",
       "      <td>...</td>\n",
       "      <td>0.004864</td>\n",
       "      <td>0.003948</td>\n",
       "      <td>0.005163</td>\n",
       "      <td>0.006111</td>\n",
       "      <td>0.005498</td>\n",
       "      <td>0.005472</td>\n",
       "      <td>NaN</td>\n",
       "      <td>0.004680</td>\n",
       "      <td>0.004962</td>\n",
       "      <td>0.005934</td>\n",
       "    </tr>\n",
       "  </tbody>\n",
       "</table>\n",
       "<p>458913 rows × 205 columns</p>\n",
       "</div>"
      ],
      "text/plain": [
       "        x0_0.0  x0_1.0  x0_2.0  x0_nan  x1_1.0  x1_2.0  x1_3.0  x1_4.0  \\\n",
       "0          1.0     0.0     0.0     0.0     0.0     1.0     0.0     0.0   \n",
       "1          1.0     0.0     0.0     0.0     0.0     1.0     0.0     0.0   \n",
       "2          1.0     0.0     0.0     0.0     1.0     0.0     0.0     0.0   \n",
       "3          1.0     0.0     0.0     0.0     0.0     1.0     0.0     0.0   \n",
       "4          1.0     0.0     0.0     0.0     1.0     0.0     0.0     0.0   \n",
       "...        ...     ...     ...     ...     ...     ...     ...     ...   \n",
       "458908     1.0     0.0     0.0     0.0     0.0     1.0     0.0     0.0   \n",
       "458909     1.0     0.0     0.0     0.0     0.0     0.0     0.0     0.0   \n",
       "458910     1.0     0.0     0.0     0.0     0.0     0.0     1.0     0.0   \n",
       "458911     1.0     0.0     0.0     0.0     0.0     0.0     1.0     0.0   \n",
       "458912     1.0     0.0     0.0     0.0     0.0     0.0     1.0     0.0   \n",
       "\n",
       "        x1_5.0  x1_6.0  ...     D_131     D_133      R_28     D_139     D_140  \\\n",
       "0          0.0     0.0  ...  0.005446  0.004760  0.004089  0.003664  0.005343   \n",
       "1          0.0     0.0  ...  0.004214  0.004519  0.005405  0.004906  0.006271   \n",
       "2          0.0     0.0  ...  0.004647  0.006781  0.004624  0.006006  0.004675   \n",
       "3          0.0     0.0  ...  0.004463  0.003369  0.005615  0.005775  0.005777   \n",
       "4          0.0     0.0  ...  0.005097  0.004744  0.004297  0.003853  0.004818   \n",
       "...        ...     ...  ...       ...       ...       ...       ...       ...   \n",
       "458908     0.0     0.0  ...  0.004202  0.004180  0.005352  0.007432  0.005698   \n",
       "458909     0.0     0.0  ...  0.997758  1.014297  0.006061  0.005071  0.003799   \n",
       "458910     0.0     0.0  ...  0.005338  0.004848  0.005097  0.004716  0.003858   \n",
       "458911     0.0     0.0  ...  0.004384  0.005217  0.004997  1.005970  0.006763   \n",
       "458912     0.0     0.0  ...  0.004864  0.003948  0.005163  0.006111  0.005498   \n",
       "\n",
       "           D_141     D_142     D_143     D_144     D_145  \n",
       "0       0.005178       NaN  0.005066  0.005283  0.005814  \n",
       "1       0.006007       NaN  0.004824  0.004218  0.004902  \n",
       "2       0.003607       NaN  0.004288  0.005113  0.004500  \n",
       "3       0.004181       NaN  0.006742  0.004768  0.005236  \n",
       "4       0.004818       NaN  0.004852  0.004380  0.004219  \n",
       "...          ...       ...       ...       ...       ...  \n",
       "458908  0.004995       NaN  0.003367  0.005605  0.005315  \n",
       "458909  0.005458       NaN  0.004469  0.006052  0.005622  \n",
       "458910  0.004838       NaN  0.006621  0.004860  0.003917  \n",
       "458911  0.940234  0.417953  1.004619  0.005287  0.186632  \n",
       "458912  0.005472       NaN  0.004680  0.004962  0.005934  \n",
       "\n",
       "[458913 rows x 205 columns]"
      ]
     },
     "execution_count": 45,
     "metadata": {},
     "output_type": "execute_result"
    }
   ],
   "source": [
    "#Añadimos las otras variables, las numericas\n",
    "df_ohe['P_2'] = data_full.P_2\n",
    "df_ohe['D_39'] = data_full.D_39\n",
    "df_ohe['B_1'] = data_full.B_1\n",
    "df_ohe['B_2'] = data_full.B_2\n",
    "df_ohe['R_1'] = data_full.R_1\n",
    "df_ohe['S_3'] = data_full.S_3\n",
    "df_ohe['D_41'] = data_full.D_41\n",
    "df_ohe['B_3'] = data_full.B_3\n",
    "df_ohe['D_42'] = data_full.D_42\n",
    "df_ohe['D_43'] = data_full.D_43\n",
    "df_ohe['D_44'] = data_full.D_44\n",
    "df_ohe['B_4'] = data_full.B_4\n",
    "df_ohe['D_45'] = data_full.D_45\n",
    "df_ohe['B_5'] = data_full.B_5\n",
    "df_ohe['R_2'] = data_full.R_2\n",
    "df_ohe['D_46'] = data_full.D_46\n",
    "df_ohe['D_47'] = data_full.D_47\n",
    "df_ohe['D_48'] = data_full.D_48\n",
    "df_ohe['B_6'] = data_full.B_6\n",
    "df_ohe['B_7'] = data_full.B_7\n",
    "df_ohe['B_8'] = data_full.B_8\n",
    "df_ohe['D_50'] = data_full.D_50\n",
    "df_ohe['D_51'] = data_full.D_51\n",
    "df_ohe['B_9'] = data_full.B_9\n",
    "df_ohe['R_3'] = data_full.R_3\n",
    "df_ohe['D_52'] = data_full.D_52\n",
    "df_ohe['P_3'] = data_full.P_3\n",
    "df_ohe['B_10'] = data_full.B_10\n",
    "df_ohe['D_53'] = data_full.D_53\n",
    "df_ohe['S_5'] = data_full.S_5\n",
    "df_ohe['B_11'] = data_full.B_11\n",
    "df_ohe['S_6'] = data_full.S_6\n",
    "df_ohe['D_54'] = data_full.D_54\n",
    "df_ohe['R_4'] = data_full.R_4\n",
    "df_ohe['S_7'] = data_full.S_7\n",
    "df_ohe['B_12'] = data_full.B_12\n",
    "df_ohe['S_8'] = data_full.S_8\n",
    "df_ohe['D_55'] = data_full.D_55\n",
    "df_ohe['D_56'] = data_full.D_56\n",
    "df_ohe['B_13'] = data_full.B_13\n",
    "df_ohe['R_5'] = data_full.R_5\n",
    "df_ohe['D_58'] = data_full.D_58\n",
    "df_ohe['S_9'] = data_full.S_9\n",
    "df_ohe['B_14'] = data_full.B_14\n",
    "df_ohe['D_59'] = data_full.D_59\n",
    "df_ohe['D_60'] = data_full.D_60\n",
    "df_ohe['D_61'] = data_full.D_61\n",
    "df_ohe['B_15'] = data_full.B_15\n",
    "df_ohe['S_11'] = data_full.S_11\n",
    "df_ohe['D_62'] = data_full.D_62\n",
    "df_ohe['D_65'] = data_full.D_65\n",
    "df_ohe['B_16'] = data_full.B_16\n",
    "df_ohe['B_17'] = data_full.B_17\n",
    "df_ohe['B_18'] = data_full.B_18\n",
    "df_ohe['B_19'] = data_full.B_19\n",
    "df_ohe['B_20'] = data_full.B_20\n",
    "df_ohe['S_12'] = data_full.S_12\n",
    "df_ohe['R_6'] = data_full.R_6\n",
    "df_ohe['S_13'] = data_full.S_13\n",
    "df_ohe['B_21'] = data_full.B_21\n",
    "df_ohe['D_69'] = data_full.D_69\n",
    "df_ohe['B_22'] = data_full.B_22\n",
    "df_ohe['D_70'] = data_full.D_70\n",
    "df_ohe['D_71'] = data_full.D_71\n",
    "df_ohe['D_72'] = data_full.D_72\n",
    "df_ohe['S_15'] = data_full.S_15\n",
    "df_ohe['B_23'] = data_full.B_23\n",
    "df_ohe['P_4'] = data_full.P_4\n",
    "df_ohe['D_74'] = data_full.D_74\n",
    "df_ohe['D_75'] = data_full.D_75\n",
    "df_ohe['D_76'] = data_full.D_76\n",
    "df_ohe['B_24'] = data_full.B_24\n",
    "df_ohe['R_7'] = data_full.R_7\n",
    "df_ohe['D_77'] = data_full.D_77\n",
    "df_ohe['B_25'] = data_full.B_25\n",
    "df_ohe['B_26'] = data_full.B_26\n",
    "df_ohe['D_78'] = data_full.D_78\n",
    "df_ohe['D_79'] = data_full.D_79\n",
    "df_ohe['R_8'] = data_full.R_8\n",
    "df_ohe['S_16'] = data_full.S_16\n",
    "df_ohe['D_80'] = data_full.D_80\n",
    "df_ohe['R_10'] = data_full.R_10\n",
    "df_ohe['R_11'] = data_full.R_11\n",
    "df_ohe['B_27'] = data_full.B_27\n",
    "df_ohe['D_81'] = data_full.D_81\n",
    "df_ohe['D_82'] = data_full.D_82\n",
    "df_ohe['S_17'] = data_full.S_17\n",
    "df_ohe['R_12'] = data_full.R_12\n",
    "df_ohe['B_28'] = data_full.B_28\n",
    "df_ohe['R_13'] = data_full.R_13\n",
    "df_ohe['D_83'] = data_full.D_83\n",
    "df_ohe['R_14'] = data_full.R_14\n",
    "df_ohe['R_15'] = data_full.R_15\n",
    "df_ohe['D_84'] = data_full.D_84\n",
    "df_ohe['R_16'] = data_full.R_16\n",
    "df_ohe['S_18'] = data_full.S_18\n",
    "df_ohe['D_86'] = data_full.D_86\n",
    "df_ohe['D_87'] = data_full.D_87\n",
    "df_ohe['R_17'] = data_full.R_17\n",
    "df_ohe['R_18'] = data_full.R_18\n",
    "df_ohe['B_31'] = data_full.B_31\n",
    "df_ohe['S_19'] = data_full.S_19\n",
    "df_ohe['R_19'] = data_full.R_19\n",
    "df_ohe['B_32'] = data_full.B_32\n",
    "df_ohe['S_20'] = data_full.S_20\n",
    "df_ohe['R_20'] = data_full.R_20\n",
    "df_ohe['R_21'] = data_full.R_21\n",
    "df_ohe['B_33'] = data_full.B_33\n",
    "df_ohe['D_89'] = data_full.D_89\n",
    "df_ohe['R_22'] = data_full.R_22\n",
    "df_ohe['R_23'] = data_full.R_23\n",
    "df_ohe['D_91'] = data_full.D_91\n",
    "df_ohe['D_92'] = data_full.D_92\n",
    "df_ohe['D_93'] = data_full.D_93\n",
    "df_ohe['D_94'] = data_full.D_94\n",
    "df_ohe['R_24'] = data_full.R_24\n",
    "df_ohe['R_25'] = data_full.R_25\n",
    "df_ohe['D_96'] = data_full.D_96\n",
    "df_ohe['S_22'] = data_full.S_22\n",
    "df_ohe['S_23'] = data_full.S_23\n",
    "df_ohe['S_24'] = data_full.S_24\n",
    "df_ohe['S_25'] = data_full.S_25\n",
    "df_ohe['S_26'] = data_full.S_26\n",
    "df_ohe['D_102'] = data_full.D_102\n",
    "df_ohe['D_103'] = data_full.D_103\n",
    "df_ohe['D_104'] = data_full.D_104\n",
    "df_ohe['D_105'] = data_full.D_105\n",
    "df_ohe['D_107'] = data_full.D_107\n",
    "df_ohe['B_36'] = data_full.B_36\n",
    "df_ohe['B_37'] = data_full.B_37\n",
    "df_ohe['R_26'] = data_full.R_26\n",
    "df_ohe['R_27'] = data_full.R_27\n",
    "df_ohe['D_109'] = data_full.D_109\n",
    "df_ohe['D_112'] = data_full.D_112\n",
    "df_ohe['B_40'] = data_full.B_40\n",
    "df_ohe['S_27'] = data_full.S_27\n",
    "df_ohe['D_113'] = data_full.D_113\n",
    "df_ohe['D_115'] = data_full.D_115\n",
    "df_ohe['D_118'] = data_full.D_118\n",
    "df_ohe['D_119'] = data_full.D_119\n",
    "df_ohe['D_121'] = data_full.D_121\n",
    "df_ohe['D_122'] = data_full.D_122\n",
    "df_ohe['D_123'] = data_full.D_123\n",
    "df_ohe['D_124'] = data_full.D_124\n",
    "df_ohe['D_125'] = data_full.D_125\n",
    "df_ohe['D_127'] = data_full.D_127\n",
    "df_ohe['D_128'] = data_full.D_128\n",
    "df_ohe['D_129'] = data_full.D_129\n",
    "df_ohe['B_41'] = data_full.B_41\n",
    "df_ohe['D_130'] = data_full.D_130\n",
    "df_ohe['D_131'] = data_full.D_131\n",
    "df_ohe['D_133'] = data_full.D_133\n",
    "df_ohe['R_28'] = data_full.R_28\n",
    "df_ohe['D_139'] = data_full.D_139\n",
    "df_ohe['D_140'] = data_full.D_140\n",
    "df_ohe['D_141'] = data_full.D_141\n",
    "df_ohe['D_142'] = data_full.D_142\n",
    "df_ohe['D_143'] = data_full.D_143\n",
    "df_ohe['D_144'] = data_full.D_144\n",
    "df_ohe['D_145'] = data_full.D_145\n",
    "\n",
    "df_ohe"
   ]
  },
  {
   "cell_type": "code",
   "execution_count": 46,
   "metadata": {},
   "outputs": [],
   "source": [
    "df_ohe['target'] = data_full.target"
   ]
  },
  {
   "cell_type": "code",
   "execution_count": 47,
   "metadata": {},
   "outputs": [
    {
     "data": {
      "text/plain": [
       "x0_0.0    float64\n",
       "x0_1.0    float64\n",
       "x0_2.0    float64\n",
       "x0_nan    float64\n",
       "x1_1.0    float64\n",
       "           ...   \n",
       "D_142     float64\n",
       "D_143     float64\n",
       "D_144     float64\n",
       "D_145     float64\n",
       "target      int64\n",
       "Length: 206, dtype: object"
      ]
     },
     "execution_count": 47,
     "metadata": {},
     "output_type": "execute_result"
    }
   ],
   "source": [
    "#Checamos que estén todas las varibles y su tipo \n",
    "df_ohe.dtypes"
   ]
  },
  {
   "cell_type": "markdown",
   "metadata": {},
   "source": [
    "# ## Modelado - LightGBM"
   ]
  },
  {
   "cell_type": "code",
   "execution_count": 48,
   "metadata": {},
   "outputs": [
    {
     "data": {
      "text/plain": [
       "0    0.741066\n",
       "1    0.258934\n",
       "Name: target, dtype: float64"
      ]
     },
     "execution_count": 48,
     "metadata": {},
     "output_type": "execute_result"
    }
   ],
   "source": [
    "#Calcular procentaje de los datos con etiqueta positiva\n",
    "\n",
    "data_full.target.value_counts(normalize=True)"
   ]
  },
  {
   "cell_type": "markdown",
   "metadata": {},
   "source": [
    "El 25.89% de los datos son etiqueta positiva. Es decir, abandonaron la compañía y el 74.10% no abandonó la compañía."
   ]
  },
  {
   "cell_type": "code",
   "execution_count": 49,
   "metadata": {},
   "outputs": [
    {
     "data": {
      "text/plain": [
       "(458913,)"
      ]
     },
     "execution_count": 49,
     "metadata": {},
     "output_type": "execute_result"
    }
   ],
   "source": [
    "#Variable dependiente/ target\n",
    "y = df_ohe.target\n",
    "y.shape"
   ]
  },
  {
   "cell_type": "code",
   "execution_count": 50,
   "metadata": {},
   "outputs": [
    {
     "data": {
      "text/plain": [
       "(458913, 202)"
      ]
     },
     "execution_count": 50,
     "metadata": {},
     "output_type": "execute_result"
    }
   ],
   "source": [
    "#Variables independientes/ explicativas\n",
    "X = df_ohe.filter(['x0_0.0', 'x0_1.0', 'x0_2.0', 'x0_nan', 'x1_1.0', 'x1_2.0',\n",
    "       'x1_3.0', 'x1_4.0', 'x1_5.0', 'x1_6.0', 'x1_7.0', 'x1_nan',\n",
    "       'x2_0.0', 'x2_1.0', 'x2_nan', 'x3_-1.0', 'x3_1.0', 'x3_2.0',\n",
    "       'x3_3.0', 'x3_4.0', 'x3_5.0', 'x3_6.0', 'x3_nan', 'x4_0', 'x4_1',\n",
    "       'x5_0', 'x5_1', 'x6_CL', 'x6_CO', 'x6_CR', 'x6_XL', 'x6_XM',\n",
    "       'x6_XZ', 'x7_O', 'x7_R', 'x7_U', 'x7_nan', 'x8_1.0', 'x8_2.0',\n",
    "       'x8_3.0', 'x8_4.0', 'x8_5.0', 'x8_6.0', 'x8_nan','P_2', 'D_39', 'B_1', 'B_2', 'R_1', 'S_3', 'D_41', 'B_3', 'D_42',\n",
    "        'D_43', 'D_44', 'B_4', 'D_45', 'B_5', 'R_2', 'D_46', 'D_47',\n",
    "        'D_48', 'B_6', 'B_7', 'B_8', 'D_50', 'D_51', 'B_9', 'R_3', 'D_52',\n",
    "        'P_3', 'B_10', 'D_53', 'S_5', 'B_11', 'S_6', 'D_54', 'R_4', 'S_7',\n",
    "        'B_12', 'S_8', 'D_55', 'D_56', 'B_13', 'R_5', 'D_58', 'S_9',\n",
    "        'B_14', 'D_59', 'D_60', 'D_61', 'B_15', 'S_11', 'D_62', 'D_65',\n",
    "        'B_16', 'B_17', 'B_18', 'B_19', 'B_20', 'S_12', 'R_6', 'S_13',\n",
    "        'B_21', 'D_69', 'B_22', 'D_70', 'D_71', 'D_72', 'S_15', 'B_23',\n",
    "        'P_4', 'D_74', 'D_75', 'D_76', 'B_24', 'R_7', 'D_77', 'B_25',\n",
    "        'B_26', 'D_78', 'D_79', 'R_8', 'S_16', 'D_80', 'R_10', 'R_11',\n",
    "        'B_27', 'D_81', 'D_82', 'S_17', 'R_12', 'B_28', 'R_13', 'D_83',\n",
    "        'R_14', 'R_15', 'D_84', 'R_16', 'S_18', 'D_86', 'D_87', 'R_17',\n",
    "        'R_18', 'B_31', 'S_19', 'R_19', 'B_32', 'S_20', 'R_20', 'R_21',\n",
    "        'B_33', 'D_89', 'R_22', 'R_23', 'D_91', 'D_92', 'D_93', 'D_94',\n",
    "        'R_24', 'R_25', 'D_96', 'S_22', 'S_23', 'S_24', 'S_25', 'S_26',\n",
    "        'D_102', 'D_103', 'D_104', 'D_105', 'D_107', 'B_36', 'B_37',\n",
    "        'R_26', 'R_27', 'D_109', 'D_112', 'B_40', 'S_27', 'D_113', 'D_115',\n",
    "        'D_118', 'D_119', 'D_121', 'D_122', 'D_123', 'D_124', 'D_125',\n",
    "        'D_127', 'D_128', 'D_129', 'B_41', 'D_130', 'D_131', 'D_133',\n",
    "        'R_28', 'D_139', 'D_140', 'D_141', 'D_142', 'D_143', 'D_144',\n",
    "        'D_145'],axis=1)\n",
    "X.shape\n"
   ]
  },
  {
   "cell_type": "code",
   "execution_count": 51,
   "metadata": {},
   "outputs": [],
   "source": [
    "np.random.seed(210418)"
   ]
  },
  {
   "cell_type": "code",
   "execution_count": 52,
   "metadata": {},
   "outputs": [
    {
     "name": "stdout",
     "output_type": "stream",
     "text": [
      "\n",
      "X_train, y_train:  ((344184, 202), (344184,))\n",
      "\n",
      "X_test, y_test:  ((114729, 202), (114729,))\n"
     ]
    }
   ],
   "source": [
    "from sklearn.model_selection import train_test_split\n",
    "\n",
    "# train test split usando el 25% de los datos para test\n",
    "X_train, X_test, y_train, y_test =  (X, y, test_size=0.25)\n",
    "print(\"\\nX_train, y_train: \", (X_train.shape, y_train.shape))\n",
    "print(\"\\nX_test, y_test: \", (X_testrain_test_splitt.shape, y_test.shape))\n"
   ]
  },
  {
   "cell_type": "markdown",
   "metadata": {},
   "source": [
    "En el entrendamiento tenemos 344,184 valores para los predictores y 344,18 para la variable target."
   ]
  },
  {
   "cell_type": "markdown",
   "metadata": {},
   "source": [
    "Clasificadores interesenates para probar:\n",
    "- GradientBoostingClassifier -> https://scikit-learn.org/stable/modules/generated/sklearn.ensemble.GradientBoostingClassifier.html#sklearn.ensemble.GradientBoostingClassifier\n",
    "\n",
    "- HistGradientBoostingClassifier -> https://scikit-learn.org/stable/modules/generated/sklearn.ensemble.HistGradientBoostingClassifier.html#sklearn.ensemble.HistGradientBoostingClassifier---->This estimator is much faster than GradientBoostingClassifier for big datasets (n_samples >= 10 000) and this implementation is inspired by LightGBM. \n",
    "\n",
    "Scikit-learn 0.21 introduced two new implementations of gradient boosting trees, namely HistGradientBoostingClassifier and HistGradientBoostingRegressor, inspired by LightGBM (See [LightGBM]).\n",
    "\n",
    "These histogram-based estimators can be orders of magnitude faster than GradientBoostingClassifier and GradientBoostingRegressor when the number of samples is larger than tens of thousands of samples.\n",
    "\n",
    "They also have built-in support for missing values, which avoids the need for an imputer."
   ]
  },
  {
   "cell_type": "markdown",
   "metadata": {},
   "source": [
    "Scoring: https://scikit-learn.org/stable/modules/model_evaluation.html#scoring-parameter\n"
   ]
  },
  {
   "cell_type": "code",
   "execution_count": 53,
   "metadata": {},
   "outputs": [],
   "source": [
    "# explicitly require this experimental feature\n",
    "from sklearn.experimental import enable_hist_gradient_boosting \n",
    "# now you can import normally from ensemble\n",
    "from sklearn.ensemble import HistGradientBoostingClassifier"
   ]
  },
  {
   "cell_type": "code",
   "execution_count": 54,
   "metadata": {},
   "outputs": [
    {
     "data": {
      "text/plain": [
       "GridSearchCV(cv=5, estimator=HistGradientBoostingClassifier(random_state=5432),\n",
       "             n_jobs=-1,\n",
       "             param_grid={'l2_regularization': [1.5], 'learning_rate': [0.1],\n",
       "                         'max_depth': [10], 'max_iter': [1000],\n",
       "                         'min_samples_leaf': [10]},\n",
       "             return_train_score=True, scoring='recall')"
      ]
     },
     "execution_count": 54,
     "metadata": {},
     "output_type": "execute_result"
    }
   ],
   "source": [
    "from sklearn.model_selection import ParameterGrid, GridSearchCV\n",
    "#from sklearn.ensemble import HistGradientBoostingClassifier\n",
    "\n",
    "dt = HistGradientBoostingClassifier(random_state=5432)\n",
    "\n",
    "grid = {'min_samples_leaf': [5,10],'learning_rate': [0.01,0.001,0.1],'max_depth': [10,20,30],'max_iter':[1000,1500],\n",
    "       'l2_regularization':[0.1,1]}\n",
    "# En scoring es la manera en que va a escoger el mejor tree, los más comunes son recall y precision\n",
    "# n-jobs ayuda a que sea mas eficiente en recursos, en -1 ocupa todo lo que esta disponible\n",
    "\n",
    "gs = GridSearchCV(dt, param_grid=grid, scoring='recall', cv=5, n_jobs=-1,\n",
    "                  return_train_score=True)\n",
    "gs.fit(X_train, y_train)"
   ]
  },
  {
   "cell_type": "markdown",
   "metadata": {},
   "source": [
    "##### Co'digo para cuando tengamos mas variaciones en el gridsearch"
   ]
  },
  {
   "cell_type": "code",
   "execution_count": 55,
   "metadata": {},
   "outputs": [
    {
     "data": {
      "text/plain": [
       "sklearn.model_selection._search.GridSearchCV"
      ]
     },
     "execution_count": 55,
     "metadata": {},
     "output_type": "execute_result"
    }
   ],
   "source": [
    "type(gs)"
   ]
  },
  {
   "cell_type": "code",
   "execution_count": 56,
   "metadata": {},
   "outputs": [
    {
     "data": {
      "text/plain": [
       "HistGradientBoostingClassifier(l2_regularization=1.5, max_depth=10,\n",
       "                               max_iter=1000, min_samples_leaf=10,\n",
       "                               random_state=5432)"
      ]
     },
     "execution_count": 56,
     "metadata": {},
     "output_type": "execute_result"
    }
   ],
   "source": [
    "#Encontrar el mejor modelo\n",
    "gs.best_estimator_ "
   ]
  },
  {
   "cell_type": "code",
   "execution_count": 57,
   "metadata": {},
   "outputs": [
    {
     "data": {
      "text/plain": [
       "{'l2_regularization': 1.5,\n",
       " 'learning_rate': 0.1,\n",
       " 'max_depth': 10,\n",
       " 'max_iter': 1000,\n",
       " 'min_samples_leaf': 10}"
      ]
     },
     "execution_count": 57,
     "metadata": {},
     "output_type": "execute_result"
    }
   ],
   "source": [
    "gs.best_params_"
   ]
  },
  {
   "cell_type": "code",
   "execution_count": 58,
   "metadata": {},
   "outputs": [
    {
     "data": {
      "text/plain": [
       "array([0, 0, 0, 0, 0, 0, 1, 1, 0, 0])"
      ]
     },
     "execution_count": 58,
     "metadata": {},
     "output_type": "execute_result"
    }
   ],
   "source": [
    "# obtiene las etiquetas del mejor predictor\n",
    "predicted_labels = gs.predict(X_test)\n",
    "predicted_labels[:10]"
   ]
  },
  {
   "cell_type": "code",
   "execution_count": 59,
   "metadata": {},
   "outputs": [
    {
     "data": {
      "text/plain": [
       "array([[9.97210187e-01, 2.78981293e-03],\n",
       "       [9.97988932e-01, 2.01106760e-03],\n",
       "       [6.94436541e-01, 3.05563459e-01],\n",
       "       [6.24825529e-01, 3.75174471e-01],\n",
       "       [9.99066085e-01, 9.33914763e-04],\n",
       "       [9.46448082e-01, 5.35519179e-02],\n",
       "       [5.44295208e-02, 9.45570479e-01],\n",
       "       [6.56512384e-02, 9.34348762e-01],\n",
       "       [8.66121423e-01, 1.33878577e-01],\n",
       "       [9.98074068e-01, 1.92593156e-03]])"
      ]
     },
     "execution_count": 59,
     "metadata": {},
     "output_type": "execute_result"
    }
   ],
   "source": [
    "# scores asociados\n",
    "predicted_scores = gs.predict_proba(X_test)\n",
    "predicted_scores[:10,]"
   ]
  },
  {
   "cell_type": "markdown",
   "metadata": {},
   "source": [
    "Este es el score asociado a que defaulte o no. Mientras más grande sea, más seguro está el modelo de que corresponde a la etiqueta positiva (defaultea). Mientras más cercano a 0, menos está seguro de que es 1(defaulte) y pone 0 (no defaultea).\n",
    "\n",
    "La primer columna correpsonde a la etiqueta 0 y la segunda columna a la etiqueta 1."
   ]
  },
  {
   "cell_type": "code",
   "execution_count": 60,
   "metadata": {},
   "outputs": [
    {
     "data": {
      "text/plain": [
       "HistGradientBoostingClassifier(l2_regularization=1.5, max_depth=10,\n",
       "                               max_iter=1000, min_samples_leaf=10,\n",
       "                               random_state=5432)"
      ]
     },
     "execution_count": 60,
     "metadata": {},
     "output_type": "execute_result"
    }
   ],
   "source": [
    "#El mejor modelo\n",
    "dt = HistGradientBoostingClassifier(min_samples_leaf=10, learning_rate=0.1,max_depth=10,\n",
    "                                    max_iter=1000,l2_regularization=1.5, random_state=5432)\n",
    "dt.fit(X_train, y_train)\n",
    "\n",
    "print(\"Tiempo de ejecución en segundos: {}\".format(time.time() - start))"
   ]
  },
  {
   "cell_type": "code",
   "execution_count": 78,
   "metadata": {},
   "outputs": [
    {
     "data": {
      "text/plain": [
       "202"
      ]
     },
     "execution_count": 78,
     "metadata": {},
     "output_type": "execute_result"
    }
   ],
   "source": [
    "dt.n_features_in_ #Number of features seen during fit."
   ]
  },
  {
   "cell_type": "markdown",
   "metadata": {},
   "source": [
    "### Métricas de Desempeño"
   ]
  },
  {
   "cell_type": "code",
   "execution_count": 64,
   "metadata": {},
   "outputs": [
    {
     "name": "stderr",
     "output_type": "stream",
     "text": [
      "<ipython-input-64-95b877ac174c>:10: UserWarning: color is redundantly defined by the 'color' keyword argument and the fmt string \"k--\" (-> color='k'). The keyword argument will take precedence.\n",
      "  plt.plot([0,1],[0,1], 'k--', c=\"red\")\n"
     ]
    },
    {
     "data": {
      "image/png": "[encoded data removed]",
      "text/plain": [
       "<Figure size 432x288 with 1 Axes>"
      ]
     },
     "metadata": {
      "needs_background": "light"
     },
     "output_type": "display_data"
    }
   ],
   "source": [
    "from sklearn.metrics import roc_curve, roc_auc_score\n",
    "\n",
    "import matplotlib.pyplot as plt\n",
    "\n",
    "%matplotlib inline\n",
    "\n",
    "fpr, tpr, thresholds = roc_curve(y_test, predicted_scores[:,1], pos_label=1)\n",
    "\n",
    "plt.clf()\n",
    "plt.plot([0,1],[0,1], 'k--', c=\"red\")\n",
    "plt.plot(fpr, tpr)\n",
    "plt.title(\"ROC best RF, AUC: {}\".format(roc_auc_score(y_test, predicted_labels)))\n",
    "plt.xlabel(\"fpr\")\n",
    "plt.ylabel(\"tpr\")\n",
    "plt.show()\n"
   ]
  },
  {
   "cell_type": "markdown",
   "metadata": {},
   "source": [
    "Cubrimos un área bajo la curva del 86.40% y mientras más cercano esté a 1 significa que esta curva está más paradita y es mejor. Aunque un área bajo la curva mayor sería mejor, esta no es una buena forma de medir si un modelo es o no el mejor. \n",
    "\n",
    "Si la AUC fuera 1, entonces el modelo de clasificación puede distinguir correctamente entre las etiquetas poisitivas y negativas. Como la AUC está entre 1 y 0.5, el modelo puede detectar más veces True positives y True negatives que False negatives y False positives.  "
   ]
  },
  {
   "cell_type": "markdown",
   "metadata": {},
   "source": [
    "**Matriz de Confusión**"
   ]
  },
  {
   "cell_type": "code",
   "execution_count": 65,
   "metadata": {},
   "outputs": [
    {
     "data": {
      "text/plain": [
       "array([[78950,  5939],\n",
       "       [ 6024, 23816]])"
      ]
     },
     "execution_count": 65,
     "metadata": {},
     "output_type": "execute_result"
    }
   ],
   "source": [
    "from sklearn.metrics import confusion_matrix\n",
    "confusion_matrix(y_test, predicted_labels)"
   ]
  },
  {
   "cell_type": "markdown",
   "metadata": {},
   "source": [
    "- Tenemos 78950 Verdaderos Negativos (TN)\n",
    "- Tenemos 23816 Verdaderos Positivos (TP)\n",
    "- Tenemos 5939 Falsos Positivos (FP)\n",
    "- Tenemos 6024 Falsos Negativos (FN)\n",
    "\n",
    "Nuestro objetivo es atinarle a las cosas que decimos que son positivas que sean positivas y tenemos más de esas en proporción a los errores, queremos recall y tiene que ver con Falsos Negativos.  Todavía no es la matriz en el punto de corte pero en proporción tenemos muchos más aciertos (102,766 aciertos) que errores (11,963), por lo que el modelo se ve bien. "
   ]
  },
  {
   "cell_type": "code",
   "execution_count": 82,
   "metadata": {},
   "outputs": [
    {
     "data": {
      "text/plain": [
       "0.7981233243967828"
      ]
     },
     "execution_count": 82,
     "metadata": {},
     "output_type": "execute_result"
    }
   ],
   "source": [
    "recall=23816/(23816+6024)\n",
    "recall"
   ]
  },
  {
   "cell_type": "code",
   "execution_count": 66,
   "metadata": {},
   "outputs": [
    {
     "data": {
      "image/png": "[encoded data removed]",
      "text/plain": [
       "<Figure size 432x288 with 2 Axes>"
      ]
     },
     "metadata": {
      "needs_background": "light"
     },
     "output_type": "display_data"
    }
   ],
   "source": [
    "#Plot de la matriz de confusión usando la librería sklearn\n",
    "from sklearn.metrics import plot_confusion_matrix\n",
    "plot_confusion_matrix(gs, X_test, y_test)  \n",
    "plt.show() "
   ]
  },
  {
   "cell_type": "markdown",
   "metadata": {},
   "source": [
    "**Accuracy**"
   ]
  },
  {
   "cell_type": "code",
   "execution_count": 67,
   "metadata": {},
   "outputs": [
    {
     "data": {
      "text/plain": [
       "0.8957281942664889"
      ]
     },
     "execution_count": 67,
     "metadata": {},
     "output_type": "execute_result"
    }
   ],
   "source": [
    "from sklearn.metrics import accuracy_score\n",
    "\n",
    "accuracy_score(y_test, predicted_labels)"
   ]
  },
  {
   "cell_type": "markdown",
   "metadata": {},
   "source": [
    "Accuracy mide cómo nos va en aciertos tanto negativos como positivos. Mientras más cercano a 1 quiere decir que se tuvieron más aciertos y obtuvimos 0.89 de accuracy. No se sugiere ocupar accuracy para medir el desempeño porque casi nunca van a estar balanceados los data sets y hace más difícil encontrar un 1 que un 0."
   ]
  },
  {
   "cell_type": "markdown",
   "metadata": {},
   "source": [
    "**Curva Precision-Recall**"
   ]
  },
  {
   "cell_type": "code",
   "execution_count": 68,
   "metadata": {},
   "outputs": [
    {
     "data": {
      "text/plain": [
       "(array([0.27470656, 0.27469988, 0.27470241, ..., 1.        , 1.        ,\n",
       "        1.        ]),\n",
       " array([1.00000000e+00, 9.99966488e-01, 9.99966488e-01, ...,\n",
       "        6.70241287e-05, 3.35120643e-05, 0.00000000e+00]),\n",
       " array([9.06380084e-04, 9.06436999e-04, 9.06455319e-04, ...,\n",
       "        9.98955496e-01, 9.99113887e-01, 9.99326424e-01]))"
      ]
     },
     "execution_count": 68,
     "metadata": {},
     "output_type": "execute_result"
    }
   ],
   "source": [
    "from sklearn.metrics import precision_recall_curve\n",
    "\n",
    "precision, recall, thresholds_2 = precision_recall_curve(y_test, predicted_scores[:,1])\n",
    "\n",
    "(precision, recall, thresholds_2)"
   ]
  },
  {
   "cell_type": "code",
   "execution_count": 69,
   "metadata": {},
   "outputs": [
    {
     "data": {
      "text/plain": [
       "((108626,), (108626,), (108625,))"
      ]
     },
     "execution_count": 69,
     "metadata": {},
     "output_type": "execute_result"
    }
   ],
   "source": [
    "(precision.shape, recall.shape, thresholds_2.shape)"
   ]
  },
  {
   "cell_type": "code",
   "execution_count": 70,
   "metadata": {},
   "outputs": [],
   "source": [
    "# agregaremos a los thresholds un punto más para que cuadren\n",
    "thresholds_2 = np.append(thresholds_2, 1)"
   ]
  },
  {
   "cell_type": "code",
   "execution_count": 71,
   "metadata": {},
   "outputs": [
    {
     "data": {
      "text/plain": [
       "((108626,), (108626,), (108626,))"
      ]
     },
     "execution_count": 71,
     "metadata": {},
     "output_type": "execute_result"
    }
   ],
   "source": [
    "(precision.shape, recall.shape, thresholds_2.shape)"
   ]
  },
  {
   "cell_type": "code",
   "execution_count": 72,
   "metadata": {},
   "outputs": [
    {
     "data": {
      "text/plain": [
       "<Figure size 432x288 with 0 Axes>"
      ]
     },
     "metadata": {},
     "output_type": "display_data"
    },
    {
     "data": {
      "image/png": "[encoded data removed]",
      "text/plain": [
       "<Figure size 432x288 with 1 Axes>"
      ]
     },
     "metadata": {
      "needs_background": "light"
     },
     "output_type": "display_data"
    }
   ],
   "source": [
    "from sklearn.metrics import plot_precision_recall_curve\n",
    "\n",
    "plt.clf()\n",
    "plot_precision_recall_curve(gs, X_test, y_test)\n",
    "plt.title(\"Precision-recall curve\")\n",
    "plt.xlabel(\"recall\")\n",
    "plt.ylabel(\"precision\")\n",
    "plt.show()"
   ]
  },
  {
   "cell_type": "markdown",
   "metadata": {},
   "source": [
    "**Para un precision de 70% se tiene como un 93% de recall**"
   ]
  },
  {
   "cell_type": "code",
   "execution_count": 73,
   "metadata": {},
   "outputs": [
    {
     "data": {
      "text/plain": [
       "0.7992616830270997"
      ]
     },
     "execution_count": 73,
     "metadata": {},
     "output_type": "execute_result"
    }
   ],
   "source": [
    "from sklearn.metrics import f1_score\n",
    "\n",
    "f1_score = f1_score(y_test, predicted_labels, labels=[0,1],  pos_label=1)\n",
    "f1_score"
   ]
  },
  {
   "cell_type": "markdown",
   "metadata": {},
   "source": [
    "### Tabla de métricas de desempeño"
   ]
  },
  {
   "cell_type": "code",
   "execution_count": 74,
   "metadata": {},
   "outputs": [],
   "source": [
    "def get_metrics_report(fpr, tpr, thresholds, precision, recall, thresholds_2):\n",
    "    df_1 = pd.DataFrame({'threshold': thresholds_2,'precision': precision,\n",
    "                    'recall': recall})\n",
    "    df_1['f1_score'] = 2 * (df_1.precision * df_1.recall) / (df_1.precision + df_1.recall)\n",
    "    \n",
    "    df_2 = pd.DataFrame({'tpr': tpr, 'fpr': fpr, 'threshold': thresholds})\n",
    "    df_2['tnr'] = 1 - df_2['fpr']\n",
    "    df_2['fnr'] = 1 - df_2['tpr']\n",
    "    \n",
    "    df = df_1.merge(df_2, on=\"threshold\")\n",
    "    \n",
    "    return df"
   ]
  },
  {
   "cell_type": "code",
   "execution_count": 79,
   "metadata": {},
   "outputs": [
    {
     "data": {
      "text/html": [
       "<div>\n",
       "<style scoped>\n",
       "    .dataframe tbody tr th:only-of-type {\n",
       "        vertical-align: middle;\n",
       "    }\n",
       "\n",
       "    .dataframe tbody tr th {\n",
       "        vertical-align: top;\n",
       "    }\n",
       "\n",
       "    .dataframe thead th {\n",
       "        text-align: right;\n",
       "    }\n",
       "</style>\n",
       "<table border=\"1\" class=\"dataframe\">\n",
       "  <thead>\n",
       "    <tr style=\"text-align: right;\">\n",
       "      <th></th>\n",
       "      <th>threshold</th>\n",
       "      <th>precision</th>\n",
       "      <th>recall</th>\n",
       "      <th>f1_score</th>\n",
       "      <th>tpr</th>\n",
       "      <th>fpr</th>\n",
       "      <th>tnr</th>\n",
       "      <th>fnr</th>\n",
       "    </tr>\n",
       "  </thead>\n",
       "  <tbody>\n",
       "    <tr>\n",
       "      <th>0</th>\n",
       "      <td>0.000906</td>\n",
       "      <td>0.274707</td>\n",
       "      <td>1.000000</td>\n",
       "      <td>0.431011</td>\n",
       "      <td>1.000000</td>\n",
       "      <td>0.928094</td>\n",
       "      <td>0.071906</td>\n",
       "      <td>0.000000</td>\n",
       "    </tr>\n",
       "    <tr>\n",
       "      <th>1</th>\n",
       "      <td>0.000906</td>\n",
       "      <td>0.274700</td>\n",
       "      <td>0.999966</td>\n",
       "      <td>0.431000</td>\n",
       "      <td>0.999966</td>\n",
       "      <td>0.928094</td>\n",
       "      <td>0.071906</td>\n",
       "      <td>0.000034</td>\n",
       "    </tr>\n",
       "    <tr>\n",
       "      <th>2</th>\n",
       "      <td>0.000967</td>\n",
       "      <td>0.276913</td>\n",
       "      <td>0.999966</td>\n",
       "      <td>0.433719</td>\n",
       "      <td>0.999966</td>\n",
       "      <td>0.917869</td>\n",
       "      <td>0.082131</td>\n",
       "      <td>0.000034</td>\n",
       "    </tr>\n",
       "  </tbody>\n",
       "</table>\n",
       "</div>"
      ],
      "text/plain": [
       "   threshold  precision    recall  f1_score       tpr       fpr       tnr  \\\n",
       "0   0.000906   0.274707  1.000000  0.431011  1.000000  0.928094  0.071906   \n",
       "1   0.000906   0.274700  0.999966  0.431000  0.999966  0.928094  0.071906   \n",
       "2   0.000967   0.276913  0.999966  0.433719  0.999966  0.917869  0.082131   \n",
       "\n",
       "        fnr  \n",
       "0  0.000000  \n",
       "1  0.000034  \n",
       "2  0.000034  "
      ]
     },
     "execution_count": 79,
     "metadata": {},
     "output_type": "execute_result"
    }
   ],
   "source": [
    "metrics_report = get_metrics_report(fpr, tpr, thresholds, precision, recall, thresholds_2)\n",
    "metrics_report.head(3)"
   ]
  },
  {
   "cell_type": "markdown",
   "metadata": {},
   "source": [
    " ### Test Data"
   ]
  },
  {
   "cell_type": "code",
   "execution_count": 81,
   "metadata": {},
   "outputs": [],
   "source": [
    "#read in test data\n",
    "test = pd.read_csv(\"/Users/Shanti/Desktop/test_data.csv\")"
   ]
  },
  {
   "cell_type": "code",
   "execution_count": null,
   "metadata": {},
   "outputs": [],
   "source": [
    "#predict on test with gs \n",
    "submission_pred = gs.predict(test)\n",
    "submission_pred.head(5)"
   ]
  }
 ],
 "metadata": {
  "kernelspec": {
   "display_name": "mditam",
   "language": "python",
   "name": "mditam"
  },
  "language_info": {
   "codemirror_mode": {
    "name": "ipython",
    "version": 3
   },
   "file_extension": ".py",
   "mimetype": "text/x-python",
   "name": "python",
   "nbconvert_exporter": "python",
   "pygments_lexer": "ipython3",
   "version": "3.8.3"
  }
 },
 "nbformat": 4,
 "nbformat_minor": 4
}
